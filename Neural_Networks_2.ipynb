{
  "nbformat": 4,
  "nbformat_minor": 0,
  "metadata": {
    "colab": {
      "provenance": []
    },
    "kernelspec": {
      "name": "python3",
      "display_name": "Python 3"
    },
    "language_info": {
      "name": "python"
    },
    "accelerator": "GPU",
    "gpuClass": "standard"
  },
  "cells": [
    {
      "cell_type": "code",
      "execution_count": 1,
      "metadata": {
        "colab": {
          "base_uri": "https://localhost:8080/"
        },
        "id": "04zSZx2d_ZR2",
        "outputId": "95c6995c-f9c8-4e88-fad2-2cb6cf0e3e6d"
      },
      "outputs": [
        {
          "output_type": "stream",
          "name": "stdout",
          "text": [
            "Mounted at /content/drive\n"
          ]
        }
      ],
      "source": [
        "# from zipfile import ZipFile\n",
        "# dataset_path = \"./cnn_dataset.zip\"\n",
        "# with ZipFile(dataset_path, 'r') as z: \n",
        "#     z.extractall(path='./cnn_dataset')  \n",
        "#     print(\"Done\")\n",
        "\n",
        "from google.colab import drive\n",
        "drive.mount('/content/drive')"
      ]
    },
    {
      "cell_type": "code",
      "source": [
        "import os\n",
        "import re\n",
        "import numpy as np\n",
        "import pandas as pd\n",
        "import matplotlib.pyplot as plt\n",
        "\n",
        "from PIL import Image\n",
        "from tqdm import tqdm\n",
        "from sklearn import metrics\n",
        "from sklearn.model_selection import train_test_split\n",
        "\n",
        "import torch\n",
        "from torch import nn, optim\n",
        "import torch.nn.functional as F\n",
        "\n",
        "import albumentations as A\n",
        "from albumentations.pytorch import ToTensorV2"
      ],
      "metadata": {
        "id": "-hM1tcd__yV_"
      },
      "execution_count": 2,
      "outputs": []
    },
    {
      "cell_type": "code",
      "source": [
        "class Dataset:\n",
        "    def __init__(self, img_paths, labels, transform=None):\n",
        "        self.img_paths = img_paths\n",
        "        self.labels = labels\n",
        "        self.transform = transform\n",
        "\n",
        "    def __len__(self):\n",
        "        return len(self.img_paths)\n",
        "\n",
        "    def __getitem__(self, index):\n",
        "        img_path = self.img_paths[index]\n",
        "        img = np.array(Image.open(img_path))\n",
        "        label = self.labels[index]\n",
        "\n",
        "        if self.transform is not None:\n",
        "            img = self.transform(image=img)[\"image\"]\n",
        "\n",
        "        return img, torch.tensor(label, dtype=torch.long)"
      ],
      "metadata": {
        "id": "vARgz2_o_1Oc"
      },
      "execution_count": 3,
      "outputs": []
    },
    {
      "cell_type": "code",
      "source": [
        "imgs_dir = \"/content/drive/MyDrive/cnn_dataset\"\n",
        "\n",
        "img_paths, labels = [], []\n",
        "for i, d in enumerate(os.scandir(imgs_dir)):\n",
        "    for f in os.scandir(d.path):\n",
        "        img_paths.append(f.path)\n",
        "        labels.append(i) \n",
        "\n",
        "train_img_paths, test_img_paths, train_labels, test_labels = train_test_split(img_paths, labels, test_size=0.2, random_state=42, stratify=labels)"
      ],
      "metadata": {
        "id": "LnhZZRyw_1K7"
      },
      "execution_count": 4,
      "outputs": []
    },
    {
      "cell_type": "code",
      "source": [
        "HEIGHT = 224\n",
        "WIDTH = 224\n",
        "NUM_WORKERS = 0\n",
        "TRAIN_BATCH_SIZE = 32\n",
        "TEST_BATCH_SIZE = 32\n",
        "\n",
        "transform = A.Compose(\n",
        "    [\n",
        "        A.Resize(height=HEIGHT, width=WIDTH),\n",
        "        A.Normalize(\n",
        "            mean=[0.485, 0.456, 0.406],\n",
        "            std=[0.229, 0.224, 0.225],\n",
        "            max_pixel_value=255.0,\n",
        "        ),\n",
        "        ToTensorV2(),\n",
        "    ]\n",
        ")\n",
        "\n",
        "train_dataset = Dataset(train_img_paths, train_labels, transform)\n",
        "train_data_loader = torch.utils.data.DataLoader(\n",
        "    train_dataset, \n",
        "    batch_size=TRAIN_BATCH_SIZE,\n",
        "    shuffle=True,\n",
        ")\n",
        "\n",
        "test_dataset = Dataset(test_img_paths, test_labels, transform)\n",
        "test_data_loader = torch.utils.data.DataLoader(\n",
        "    test_dataset, \n",
        "    batch_size=TEST_BATCH_SIZE,\n",
        "    shuffle=False,\n",
        ")"
      ],
      "metadata": {
        "id": "yekm8FUs_1IS"
      },
      "execution_count": 5,
      "outputs": []
    },
    {
      "cell_type": "code",
      "source": [
        "class Alexnet(nn.Module):\n",
        "    def __init__(self, in_channels=3):\n",
        "        super().__init__()\n",
        "        self.conv1 = nn.Conv2d(in_channels=in_channels, out_channels=96, kernel_size=11, stride=4, padding=0)\n",
        "        self.conv2 = nn.Conv2d(in_channels=96, out_channels=256, kernel_size=5, stride=1, padding=2)\n",
        "\n",
        "        self.conv3 = nn.Conv2d(in_channels=256, out_channels=384, kernel_size=3, stride=1, padding=1)\n",
        "        self.conv4 = nn.Conv2d(in_channels=384, out_channels=384, kernel_size=3, stride=1, padding=1)\n",
        "        self.conv5 = nn.Conv2d(in_channels=384, out_channels=256, kernel_size=3, stride=1, padding=1)\n",
        "        self.flatten = nn.Flatten()\n",
        "        \n",
        "        self.dense1 = nn.Linear(256*5*5, 4096)\n",
        "        self.dense2 = nn.Linear(4096, 4096)\n",
        "        self.dense3 = nn.Linear(4096, 3)\n",
        "\n",
        "        self.max_pool = nn.MaxPool2d(kernel_size=3, stride=2)\n",
        "        self.relu = nn.ReLU()\n",
        "        self.dropout = nn.Dropout(0.5)\n",
        "\n",
        "    def forward(self, x):\n",
        "        x = self.max_pool(self.relu(self.conv1(x)))\n",
        "        x = self.max_pool(self.relu(self.conv2(x)))\n",
        "\n",
        "        x = self.relu(self.conv3(x))\n",
        "        x = self.relu(self.conv4(x))\n",
        "        x = self.max_pool(self.relu(self.conv5(x)))\n",
        "        x = self.flatten(x)\n",
        "\n",
        "        x = self.dropout(self.relu(self.dense1(x)))\n",
        "        x = self.dropout(self.relu(self.dense2(x)))\n",
        "        x = self.dense3(x)\n",
        "        return x"
      ],
      "metadata": {
        "id": "o5JaNsJc_1Fz"
      },
      "execution_count": null,
      "outputs": []
    },
    {
      "cell_type": "code",
      "source": [
        "def train(train_data_loader, model, criterion, optimizer, epoch):\n",
        "    model.train()\n",
        "    losses = []\n",
        "\n",
        "    train_progress_bar = tqdm(enumerate(train_data_loader), total=len(train_data_loader), leave=True)\n",
        "    for batch_idx, (imgs, labels) in train_progress_bar:\n",
        "        imgs = imgs.to(DEVICE)\n",
        "        labels = labels.to(DEVICE)\n",
        "        outputs = model(imgs)\n",
        "        loss = criterion(outputs, labels)\n",
        "        \n",
        "        optimizer.zero_grad()\n",
        "        loss.backward()\n",
        "        optimizer.step()\n",
        "\n",
        "        train_progress_bar.set_description(f\"Epoch [{epoch}/{epochs-1}]\")\n",
        "        train_progress_bar.set_postfix(train_loss=loss.item())\n",
        "        losses.append(loss.item())\n",
        "        \n",
        "    train_progress_bar.close()\n",
        "    return sum(losses) / len(losses)\n",
        "\n",
        "def evaluate(test_data_loader, model, criterion):\n",
        "    model.eval()\n",
        "    losses = []\n",
        "    predictions = []\n",
        "    targets = []\n",
        "\n",
        "    test_progress_bar = tqdm(enumerate(test_data_loader), total=len(test_data_loader), leave=True)\n",
        "    for _, (imgs, labels) in test_progress_bar:\n",
        "        imgs = imgs.to(device=DEVICE)\n",
        "        labels = labels.to(DEVICE)\n",
        "\n",
        "        with torch.no_grad():\n",
        "            outputs = model(imgs)\n",
        "            loss = criterion(outputs, labels)\n",
        "            losses.append(loss.item())\n",
        "\n",
        "        predictions.append(torch.softmax(outputs, dim=1).detach().cpu())\n",
        "        targets.append(labels.detach().cpu())\n",
        "\n",
        "    predictions = torch.cat(predictions, dim=0).numpy().argmax(axis=1)\n",
        "    targets = torch.cat(targets, dim=0).view(-1).numpy()\n",
        "\n",
        "    accuracy = metrics.accuracy_score(targets, predictions)\n",
        "    test_progress_bar.close()\n",
        "    return sum(losses)/len(losses), accuracy"
      ],
      "metadata": {
        "id": "mf9xLn7z_1DP"
      },
      "execution_count": 6,
      "outputs": []
    },
    {
      "cell_type": "code",
      "source": [
        "def save_checkpoint(model, optimizer, filename=\"model.pth.tar\"):\n",
        "    print(\"=>Saving Checkpoint...\")\n",
        "    checkpoint = {\"state_dict\": model.state_dict(), \"optimizer\": optimizer.state_dict()}\n",
        "    torch.save(checkpoint, filename)\n",
        "\n",
        "def load_checkpoint(checkpoint_path, model, optimizer):\n",
        "    print(\"=>Loading Checkpoint...\")\n",
        "    checkpoint = torch.load(checkpoint_path, map_location=DEVICE)\n",
        "    model.load_state_dict(checkpoint[\"state_dict\"])\n",
        "    optimizer.load_state_dict(checkpoint[\"optimizer\"])"
      ],
      "metadata": {
        "id": "eZAfl1FoACph"
      },
      "execution_count": 7,
      "outputs": []
    },
    {
      "cell_type": "code",
      "source": [
        "DEVICE = torch.device(\"cuda\" if torch.cuda.is_available() else \"cpu\")\n",
        "LOAD_MODEL = False\n",
        "learning_rate = 1e-4\n",
        "epochs = 5\n",
        "\n",
        "model = Alexnet()\n",
        "model = model.to(DEVICE)\n",
        "\n",
        "criterion = nn.CrossEntropyLoss()\n",
        "optimizer = optim.Adam(model.parameters(), lr=learning_rate)\n",
        "\n",
        "if LOAD_MODEL: \n",
        "    load_checkpoint(f\"model.pth.tar\", model, optimizer)\n",
        "\n",
        "train_losses, test_losses, train_accuracies, test_accuracies = [], [], [], []\n",
        "acc = -float(\"inf\")\n",
        "for epoch in range(epochs):\n",
        "    train_loss = train(train_data_loader, model, criterion, optimizer, epoch)  \n",
        "    _, train_accuracy = evaluate(train_data_loader, model, criterion) \n",
        "    test_loss, test_accuracy = evaluate(test_data_loader, model, criterion)\n",
        "\n",
        "    if test_accuracy > acc:\n",
        "        save_checkpoint(model, optimizer, filename=f\"model.h5\")\n",
        "        acc = test_accuracy\n",
        "\n",
        "    train_losses.append(train_loss)\n",
        "    test_losses.append(test_loss)\n",
        "    train_accuracies.append(train_accuracy)\n",
        "    test_accuracies.append(test_accuracy)\n",
        "    print(f\"Epoch: {epoch}, Loss: {train_loss}, train_accuracy: {train_accuracy}, test_accuracy: {test_accuracy}\")"
      ],
      "metadata": {
        "colab": {
          "base_uri": "https://localhost:8080/"
        },
        "id": "h7mP8ulKAClS",
        "outputId": "74be5db2-1eea-4b04-aa6b-a055f217993c"
      },
      "execution_count": null,
      "outputs": [
        {
          "output_type": "stream",
          "name": "stderr",
          "text": [
            "Epoch [0/4]: 100%|██████████| 750/750 [01:31<00:00,  8.17it/s, train_loss=0.289]\n",
            "100%|██████████| 750/750 [00:53<00:00, 14.13it/s]\n",
            "100%|██████████| 188/188 [00:13<00:00, 14.09it/s]\n"
          ]
        },
        {
          "output_type": "stream",
          "name": "stdout",
          "text": [
            "=>Saving Checkpoint...\n",
            "Epoch: 0, Loss: 0.4969829794069131, train_accuracy: 0.8719166666666667, test_accuracy: 0.866\n"
          ]
        },
        {
          "output_type": "stream",
          "name": "stderr",
          "text": [
            "Epoch [1/4]: 100%|██████████| 750/750 [01:13<00:00, 10.15it/s, train_loss=0.11]\n",
            "100%|██████████| 750/750 [00:53<00:00, 14.07it/s]\n",
            "100%|██████████| 188/188 [00:13<00:00, 14.31it/s]\n"
          ]
        },
        {
          "output_type": "stream",
          "name": "stdout",
          "text": [
            "=>Saving Checkpoint...\n",
            "Epoch: 1, Loss: 0.30429599071542424, train_accuracy: 0.8938333333333334, test_accuracy: 0.8903333333333333\n"
          ]
        },
        {
          "output_type": "stream",
          "name": "stderr",
          "text": [
            "Epoch [2/4]: 100%|██████████| 750/750 [01:12<00:00, 10.34it/s, train_loss=0.13]\n",
            "100%|██████████| 750/750 [00:53<00:00, 13.97it/s]\n",
            "100%|██████████| 188/188 [00:12<00:00, 14.51it/s]\n"
          ]
        },
        {
          "output_type": "stream",
          "name": "stdout",
          "text": [
            "=>Saving Checkpoint...\n",
            "Epoch: 2, Loss: 0.24287261431664228, train_accuracy: 0.9350416666666667, test_accuracy: 0.9258333333333333\n"
          ]
        },
        {
          "output_type": "stream",
          "name": "stderr",
          "text": [
            "Epoch [3/4]: 100%|██████████| 750/750 [01:13<00:00, 10.26it/s, train_loss=0.214]\n",
            "100%|██████████| 750/750 [00:52<00:00, 14.25it/s]\n",
            "100%|██████████| 188/188 [00:13<00:00, 14.21it/s]\n"
          ]
        },
        {
          "output_type": "stream",
          "name": "stdout",
          "text": [
            "=>Saving Checkpoint...\n",
            "Epoch: 3, Loss: 0.2040079140998423, train_accuracy: 0.9438333333333333, test_accuracy: 0.9286666666666666\n"
          ]
        },
        {
          "output_type": "stream",
          "name": "stderr",
          "text": [
            "Epoch [4/4]: 100%|██████████| 750/750 [01:12<00:00, 10.32it/s, train_loss=0.227]\n",
            "100%|██████████| 750/750 [00:51<00:00, 14.44it/s]\n",
            "100%|██████████| 188/188 [00:13<00:00, 14.21it/s]"
          ]
        },
        {
          "output_type": "stream",
          "name": "stdout",
          "text": [
            "Epoch: 4, Loss: 0.17622406154374282, train_accuracy: 0.9516666666666667, test_accuracy: 0.927\n"
          ]
        },
        {
          "output_type": "stream",
          "name": "stderr",
          "text": [
            "\n"
          ]
        }
      ]
    },
    {
      "cell_type": "code",
      "source": [
        "def get_smooth(arr):\n",
        "    res = []\n",
        "    s = 0\n",
        "    for ind, ele in enumerate(arr):\n",
        "        s += ele\n",
        "        res.append(s/(ind+1))\n",
        "    return res"
      ],
      "metadata": {
        "id": "QLcZq-1I_1Ar"
      },
      "execution_count": 11,
      "outputs": []
    },
    {
      "cell_type": "code",
      "source": [
        "plt.plot(range(epochs), get_smooth(train_accuracies), label='train_accuracy')\n",
        "plt.plot(range(epochs), get_smooth(test_accuracies), label='test_accuracy')\n",
        "plt.legend(loc='upper right')\n",
        "print(\"Accuracyrelu is: \", acc)"
      ],
      "metadata": {
        "colab": {
          "base_uri": "https://localhost:8080/",
          "height": 448
        },
        "id": "QlOmRLZR_09_",
        "outputId": "aa3fa28f-4988-4c93-c715-90339d554bab"
      },
      "execution_count": null,
      "outputs": [
        {
          "output_type": "stream",
          "name": "stdout",
          "text": [
            "Accuracyrelu is:  0.9286666666666666\n"
          ]
        },
        {
          "output_type": "display_data",
          "data": {
            "text/plain": [
              "<Figure size 640x480 with 1 Axes>"
            ],
            "image/png": "[encoded data removed]"
          },
          "metadata": {}
        }
      ]
    },
    {
      "cell_type": "code",
      "source": [
        "plt.plot(range(epochs), get_smooth(train_losses), label='train_loss')\n",
        "plt.plot(range(epochs), get_smooth(test_losses), label='test_loss')\n",
        "plt.legend(loc='upper right')\n",
        "print(\"Accuracyrelu is: \", acc)"
      ],
      "metadata": {
        "colab": {
          "base_uri": "https://localhost:8080/",
          "height": 448
        },
        "id": "PGgU6OqHHiy_",
        "outputId": "da4243f3-3a19-4c13-8cd4-71cfea609060"
      },
      "execution_count": null,
      "outputs": [
        {
          "output_type": "stream",
          "name": "stdout",
          "text": [
            "Accuracyrelu is:  0.9286666666666666\n"
          ]
        },
        {
          "output_type": "display_data",
          "data": {
            "text/plain": [
              "<Figure size 640x480 with 1 Axes>"
            ],
            "image/png": "[encoded data removed]"
          },
          "metadata": {}
        }
      ]
    },
    {
      "cell_type": "code",
      "source": [
        "class Alexnet(nn.Module):\n",
        "    def __init__(self, in_channels=3):\n",
        "        super().__init__()\n",
        "        self.conv1 = nn.Conv2d(in_channels=in_channels, out_channels=96, kernel_size=10, stride=2, padding=0)\n",
        "        self.conv2 = nn.Conv2d(in_channels=96, out_channels=256, kernel_size=3, stride=1, padding=2)\n",
        "\n",
        "        self.conv3 = nn.Conv2d(in_channels=256, out_channels=384, kernel_size=5, stride=1, padding=1)\n",
        "        self.conv4 = nn.Conv2d(in_channels=384, out_channels=384, kernel_size=5, stride=1, padding=1)\n",
        "        self.conv5 = nn.Conv2d(in_channels=384, out_channels=256, kernel_size=5, stride=1, padding=1)\n",
        "        self.flatten = nn.Flatten()\n",
        "        \n",
        "        self.dense1 = nn.Linear(256*10*10, 4096)\n",
        "        self.dense2 = nn.Linear(4096, 4096)\n",
        "        self.dense3 = nn.Linear(4096, 3)\n",
        "\n",
        "        self.max_pool = nn.MaxPool2d(kernel_size=3, stride=2)\n",
        "        self.relu = nn.ReLU()\n",
        "        self.dropout = nn.Dropout(0.5)\n",
        "\n",
        "    def forward(self, x):\n",
        "        x = self.max_pool(self.relu(self.conv1(x)))\n",
        "        x = self.max_pool(self.relu(self.conv2(x)))\n",
        "\n",
        "        x = self.relu(self.conv3(x))\n",
        "        x = self.relu(self.conv4(x))\n",
        "        x = self.max_pool(self.relu(self.conv5(x)))\n",
        "        x = self.flatten(x)\n",
        "\n",
        "        x = self.dropout(self.relu(self.dense1(x)))\n",
        "        x = self.dropout(self.relu(self.dense2(x)))\n",
        "        x = self.dense3(x)\n",
        "        return x"
      ],
      "metadata": {
        "id": "eCpbUcT-yjTd"
      },
      "execution_count": 8,
      "outputs": []
    },
    {
      "cell_type": "code",
      "source": [
        "DEVICE = torch.device(\"cuda\" if torch.cuda.is_available() else \"cpu\")\n",
        "LOAD_MODEL = False\n",
        "learning_rate = 1e-4\n",
        "weight_decay = 1e-4\n",
        "epochs = 2\n",
        "\n",
        "model = Alexnet()\n",
        "model = model.to(DEVICE)\n",
        "\n",
        "criterion = nn.CrossEntropyLoss()\n",
        "optimizer = optim.Adam(model.parameters(), lr=learning_rate, weight_decay=weight_decay)\n",
        "scheduler = torch.optim.lr_scheduler.ReduceLROnPlateau(optimizer, factor=0.1, mode=\"min\", patience=10, verbose=True)\n",
        "\n",
        "if LOAD_MODEL: \n",
        "    load_checkpoint(f\"model.pth.tar\", model, optimizer)\n",
        "\n",
        "train_losses, test_losses, train_accuracies, test_accuracies = [], [], [], []\n",
        "acc = -float(\"inf\")\n",
        "for epoch in range(epochs):\n",
        "    train_loss = train(train_data_loader, model, criterion, optimizer, epoch)  \n",
        "    _, train_accuracy = evaluate(train_data_loader, model, criterion) \n",
        "    test_loss, test_accuracy = evaluate(test_data_loader, model, criterion)\n",
        "\n",
        "    if test_accuracy > acc:\n",
        "        save_checkpoint(model, optimizer, filename=f\"model.h5\")\n",
        "        acc = test_accuracy\n",
        "\n",
        "    train_losses.append(train_loss)\n",
        "    test_losses.append(test_loss)\n",
        "    train_accuracies.append(train_accuracy)\n",
        "    test_accuracies.append(test_accuracy)\n",
        "\n",
        "    if train_loss - test_loss < 1e-5:\n",
        "        break\n",
        "\n",
        "    mean_loss = sum(train_losses)/len(train_losses)\n",
        "    scheduler.step(mean_loss)\n",
        "    print(f\"Epoch: {epoch}, Loss: {train_loss}, train_accuracy: {train_accuracy}, test_accuracy: {test_accuracy}\")"
      ],
      "metadata": {
        "colab": {
          "base_uri": "https://localhost:8080/"
        },
        "id": "dp7oZcE7yxJP",
        "outputId": "3e29870f-eba1-448b-e917-3947498d72b8"
      },
      "execution_count": 9,
      "outputs": [
        {
          "output_type": "stream",
          "name": "stderr",
          "text": [
            "Epoch [0/4]: 100%|██████████| 751/751 [4:56:17<00:00, 23.67s/it, train_loss=0.163]\n",
            "100%|██████████| 751/751 [01:56<00:00,  6.47it/s]\n",
            "100%|██████████| 188/188 [1:10:34<00:00, 22.52s/it]\n"
          ]
        },
        {
          "output_type": "stream",
          "name": "stdout",
          "text": [
            "=>Saving Checkpoint...\n",
            "Epoch: 0, Loss: 0.47259300103914564, train_accuracy: 0.8630912724850099, test_accuracy: 0.8669220519653564\n"
          ]
        },
        {
          "output_type": "stream",
          "name": "stderr",
          "text": [
            "Epoch [1/4]: 100%|██████████| 751/751 [04:10<00:00,  3.00it/s, train_loss=0.109]\n",
            "100%|██████████| 751/751 [02:01<00:00,  6.19it/s]\n",
            "100%|██████████| 188/188 [00:30<00:00,  6.09it/s]\n"
          ]
        },
        {
          "output_type": "stream",
          "name": "stdout",
          "text": [
            "=>Saving Checkpoint...\n",
            "Epoch: 1, Loss: 0.28983433333321035, train_accuracy: 0.9228431045969354, test_accuracy: 0.919053964023984\n"
          ]
        },
        {
          "output_type": "stream",
          "name": "stderr",
          "text": [
            "Epoch [2/4]: 100%|██████████| 751/751 [04:12<00:00,  2.98it/s, train_loss=0.186]\n",
            "100%|██████████| 751/751 [02:03<00:00,  6.09it/s]\n",
            "100%|██████████| 188/188 [00:30<00:00,  6.23it/s]\n"
          ]
        }
      ]
    },
    {
      "cell_type": "code",
      "source": [
        "plt.plot(range(epochs), get_smooth(train_accuracies), label='train_accuracy')\n",
        "plt.plot(range(epochs), get_smooth(test_accuracies), label='test_accuracy')\n",
        "plt.legend(loc='upper right')\n",
        "print(\"Accuracyrelu is: \", acc)"
      ],
      "metadata": {
        "id": "EBgZk42BytTU"
      },
      "execution_count": 15,
      "outputs": []
    },
    {
      "cell_type": "code",
      "source": [
        "plt.plot(range(epochs), get_smooth(train_losses), label='train_loss')\n",
        "plt.plot(range(epochs), get_smooth(test_losses), label='test_loss')\n",
        "plt.legend(loc='upper right')"
      ],
      "metadata": {
        "id": "Eop1ut5DyzEJ"
      },
      "execution_count": null,
      "outputs": []
    }
  ]
}