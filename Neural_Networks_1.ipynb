{
  "nbformat": 4,
  "nbformat_minor": 0,
  "metadata": {
    "colab": {
      "provenance": []
    },
    "kernelspec": {
      "name": "python3",
      "display_name": "Python 3"
    },
    "language_info": {
      "name": "python"
    },
    "accelerator": "GPU",
    "gpuClass": "standard"
  },
  "cells": [
    {
      "cell_type": "code",
      "source": [
        "import os\n",
        "import re\n",
        "import numpy as np\n",
        "import pandas as pd\n",
        "import matplotlib.pyplot as plt\n",
        "\n",
        "from PIL import Image\n",
        "from tqdm import tqdm\n",
        "from sklearn import metrics\n",
        "from sklearn.model_selection import train_test_split\n",
        "\n",
        "import torch\n",
        "from torch import nn, optim\n",
        "import torch.nn.functional as F\n",
        "from torchvision import transforms\n",
        "from torchvision.datasets import SVHN\n",
        "from torch.utils.data import DataLoader\n",
        "from torch.utils.data import random_split"
      ],
      "metadata": {
        "id": "8Ipp6Ulr2U0p"
      },
      "execution_count": null,
      "outputs": []
    },
    {
      "cell_type": "code",
      "execution_count": null,
      "metadata": {
        "colab": {
          "base_uri": "https://localhost:8080/"
        },
        "id": "rq0yJzWA1__K",
        "outputId": "2605740a-a331-4940-9807-001394549c62"
      },
      "outputs": [
        {
          "output_type": "stream",
          "name": "stdout",
          "text": [
            "Using downloaded and verified file: data/train_32x32.mat\n"
          ]
        }
      ],
      "source": [
        "transform = transforms.Compose(\n",
        "    [  \n",
        "        transforms.Resize((224, 224)), \n",
        "        transforms.RandomCrop((224, 224)),  \n",
        "        transforms.RandomHorizontalFlip(),\n",
        "        transforms.ColorJitter(brightness=0.5), \n",
        "        transforms.RandomRotation(degrees=45),  \n",
        "        transforms.RandomHorizontalFlip(p=0.5),\n",
        "        transforms.RandomVerticalFlip(p=0.05),  \n",
        "        transforms.RandomGrayscale(p=0.2),  \n",
        "        transforms.ToTensor(),  \n",
        "        transforms.Normalize(mean=[0.5, 0.5, 0.5], std=[0.5, 0.5, 0.5]),  \n",
        "    ]\n",
        ")\n",
        "dataset = SVHN(root='data/', download=True, transform=transform)"
      ]
    },
    {
      "cell_type": "code",
      "source": [
        "test_size = 12000\n",
        "train_size = len(dataset) - test_size\n",
        "\n",
        "train_dataset, test_dataset = random_split(dataset, [train_size, test_size])\n",
        "len(train_dataset), len(test_dataset)"
      ],
      "metadata": {
        "colab": {
          "base_uri": "https://localhost:8080/"
        },
        "id": "-cyiBnSJ2bVZ",
        "outputId": "b8fc3149-53f9-430a-db9b-2e1f6dd6f120"
      },
      "execution_count": null,
      "outputs": [
        {
          "output_type": "execute_result",
          "data": {
            "text/plain": [
              "(61257, 12000)"
            ]
          },
          "metadata": {},
          "execution_count": 16
        }
      ]
    },
    {
      "cell_type": "code",
      "source": [
        "batch_size = 32\n",
        "train_data_loader = DataLoader(train_dataset, batch_size, shuffle=True, num_workers=0, pin_memory=False)\n",
        "test_data_loader = DataLoader(test_dataset, batch_size, num_workers=0, pin_memory=False)"
      ],
      "metadata": {
        "id": "uSd4By4H3B-s"
      },
      "execution_count": null,
      "outputs": []
    },
    {
      "cell_type": "code",
      "source": [
        "class Alexnet(nn.Module):\n",
        "    def __init__(self, in_channels=3):\n",
        "        super().__init__()\n",
        "        self.conv1 = nn.Conv2d(in_channels=in_channels, out_channels=96, kernel_size=11, stride=4, padding=0)\n",
        "        self.conv2 = nn.Conv2d(in_channels=96, out_channels=256, kernel_size=5, stride=1, padding=2)\n",
        "\n",
        "        self.conv3 = nn.Conv2d(in_channels=256, out_channels=384, kernel_size=3, stride=1, padding=1)\n",
        "        self.conv4 = nn.Conv2d(in_channels=384, out_channels=384, kernel_size=3, stride=1, padding=1)\n",
        "        self.conv5 = nn.Conv2d(in_channels=384, out_channels=256, kernel_size=3, stride=1, padding=1)\n",
        "        self.flatten = nn.Flatten()\n",
        "        \n",
        "        self.dense1 = nn.Linear(256*5*5, 4096)\n",
        "        self.dense2 = nn.Linear(4096, 4096)\n",
        "        self.dense3 = nn.Linear(4096, 10)\n",
        "\n",
        "        self.max_pool = nn.MaxPool2d(kernel_size=3, stride=2)\n",
        "        self.relu = nn.ReLU()\n",
        "        self.dropout = nn.Dropout(0.5)\n",
        "\n",
        "    def forward(self, x):\n",
        "        x = self.max_pool(self.relu(self.conv1(x)))\n",
        "        x = self.max_pool(self.relu(self.conv2(x)))\n",
        "\n",
        "        x = self.relu(self.conv3(x))\n",
        "        x = self.relu(self.conv4(x))\n",
        "        x = self.max_pool(self.relu(self.conv5(x)))\n",
        "        x = self.flatten(x)\n",
        "\n",
        "        x = self.dropout(self.relu(self.dense1(x)))\n",
        "        x = self.dropout(self.relu(self.dense2(x)))\n",
        "        x = self.dense3(x)\n",
        "        return x"
      ],
      "metadata": {
        "id": "sW8eWnHf3iBf"
      },
      "execution_count": null,
      "outputs": []
    },
    {
      "cell_type": "code",
      "source": [
        "def train(train_data_loader, model, criterion, optimizer, epoch):\n",
        "    model.train()\n",
        "    losses = []\n",
        "\n",
        "    train_progress_bar = tqdm(enumerate(train_data_loader), total=len(train_data_loader), leave=True)\n",
        "    for batch_idx, (imgs, labels) in train_progress_bar:\n",
        "        imgs = imgs.to(DEVICE)\n",
        "        labels = labels.to(DEVICE)\n",
        "        outputs = model(imgs)\n",
        "        loss = criterion(outputs, labels)\n",
        "        \n",
        "        optimizer.zero_grad()\n",
        "        loss.backward()\n",
        "        optimizer.step()\n",
        "\n",
        "        train_progress_bar.set_description(f\"Epoch [{epoch}/{epochs-1}]\")\n",
        "        train_progress_bar.set_postfix(train_loss=loss.item())\n",
        "        losses.append(loss.item())\n",
        "        \n",
        "    train_progress_bar.close()\n",
        "    return sum(losses) / len(losses)\n",
        "\n",
        "def evaluate(test_data_loader, model, criterion):\n",
        "    model.eval()\n",
        "    losses = []\n",
        "    predictions = []\n",
        "    targets = []\n",
        "\n",
        "    test_progress_bar = tqdm(enumerate(test_data_loader), total=len(test_data_loader), leave=True)\n",
        "    for _, (imgs, labels) in test_progress_bar:\n",
        "        imgs = imgs.to(device=DEVICE)\n",
        "        labels = labels.to(DEVICE)\n",
        "\n",
        "        with torch.no_grad():\n",
        "            outputs = model(imgs)\n",
        "            loss = criterion(outputs, labels)\n",
        "            losses.append(loss.item())\n",
        "\n",
        "        predictions.append(torch.softmax(outputs, dim=1).detach().cpu())\n",
        "        targets.append(labels.detach().cpu())\n",
        "\n",
        "    predictions = torch.cat(predictions, dim=0).numpy().argmax(axis=1)\n",
        "    targets = torch.cat(targets, dim=0).view(-1).numpy()\n",
        "\n",
        "    accuracy = metrics.accuracy_score(targets, predictions)\n",
        "    test_progress_bar.close()\n",
        "    return sum(losses)/len(losses), accuracy"
      ],
      "metadata": {
        "id": "4soasxIrH71j"
      },
      "execution_count": null,
      "outputs": []
    },
    {
      "cell_type": "code",
      "source": [
        "def save_checkpoint(model, optimizer, filename=\"model.pth.tar\"):\n",
        "    print(\"=>Saving Checkpoint...\")\n",
        "    checkpoint = {\"state_dict\": model.state_dict(), \"optimizer\": optimizer.state_dict()}\n",
        "    torch.save(checkpoint, filename)\n",
        "\n",
        "def load_checkpoint(checkpoint_path, model, optimizer):\n",
        "    print(\"=>Loading Checkpoint...\")\n",
        "    checkpoint = torch.load(checkpoint_path, map_location=DEVICE)\n",
        "    model.load_state_dict(checkpoint[\"state_dict\"])\n",
        "    optimizer.load_state_dict(checkpoint[\"optimizer\"])"
      ],
      "metadata": {
        "id": "8L4PNw30H7yC"
      },
      "execution_count": null,
      "outputs": []
    },
    {
      "cell_type": "code",
      "source": [
        "DEVICE = torch.device(\"cuda\" if torch.cuda.is_available() else \"cpu\")\n",
        "LOAD_MODEL = False\n",
        "learning_rate = 1e-4\n",
        "weight_decay = 1e-4\n",
        "epochs = 5\n",
        "\n",
        "model = Alexnet()\n",
        "model = model.to(DEVICE)\n",
        "\n",
        "criterion = nn.CrossEntropyLoss()\n",
        "optimizer = optim.Adam(model.parameters(), lr=learning_rate, weight_decay=weight_decay)\n",
        "scheduler = torch.optim.lr_scheduler.ReduceLROnPlateau(optimizer, factor=0.1, mode=\"min\", patience=10, verbose=True)\n",
        "\n",
        "if LOAD_MODEL: \n",
        "    load_checkpoint(f\"model.pth.tar\", model, optimizer)\n",
        "\n",
        "train_losses, test_losses, train_accuracies, test_accuracies = [], [], [], []\n",
        "acc = -float(\"inf\")\n",
        "for epoch in range(epochs):\n",
        "    train_loss = train(train_data_loader, model, criterion, optimizer, epoch)  \n",
        "    _, train_accuracy = evaluate(train_data_loader, model, criterion) \n",
        "    test_loss, test_accuracy = evaluate(test_data_loader, model, criterion)\n",
        "\n",
        "    if test_accuracy > acc:\n",
        "        save_checkpoint(model, optimizer, filename=f\"model.h5\")\n",
        "        acc = test_accuracy\n",
        "\n",
        "    train_losses.append(train_loss)\n",
        "    test_losses.append(test_loss)\n",
        "    train_accuracies.append(train_accuracy)\n",
        "    test_accuracies.append(test_accuracy)\n",
        "\n",
        "    if train_loss - test_loss < 1e-5:\n",
        "        break\n",
        "\n",
        "    mean_loss = sum(train_losses)/len(train_losses)\n",
        "    scheduler.step(mean_loss)\n",
        "    print(f\"Epoch: {epoch}, Loss: {train_loss}, train_accuracy: {train_accuracy}, test_accuracy: {test_accuracy}\")"
      ],
      "metadata": {
        "colab": {
          "base_uri": "https://localhost:8080/"
        },
        "id": "FUI8jGJaIARA",
        "outputId": "e4c759a3-1539-4fc9-b208-c4823b584b4d"
      },
      "execution_count": null,
      "outputs": [
        {
          "output_type": "stream",
          "name": "stderr",
          "text": [
            "Epoch [0/4]: 100%|██████████| 1915/1915 [03:03<00:00, 10.44it/s, train_loss=0.388]\n",
            "100%|██████████| 1915/1915 [02:07<00:00, 14.98it/s]\n",
            "100%|██████████| 375/375 [00:25<00:00, 14.96it/s]\n"
          ]
        },
        {
          "output_type": "stream",
          "name": "stdout",
          "text": [
            "=>Saving Checkpoint...\n",
            "Epoch: 0, Loss: 1.2818151392840218, train_accuracy: 0.7939990531694336, test_accuracy: 0.79375\n"
          ]
        },
        {
          "output_type": "stream",
          "name": "stderr",
          "text": [
            "Epoch [1/4]: 100%|██████████| 1915/1915 [03:00<00:00, 10.61it/s, train_loss=0.359]\n",
            "100%|██████████| 1915/1915 [02:08<00:00, 14.93it/s]\n",
            "100%|██████████| 375/375 [00:25<00:00, 14.78it/s]\n"
          ]
        },
        {
          "output_type": "stream",
          "name": "stdout",
          "text": [
            "=>Saving Checkpoint...\n",
            "Epoch: 1, Loss: 0.46078089640789494, train_accuracy: 0.8900697063192778, test_accuracy: 0.8831666666666667\n"
          ]
        },
        {
          "output_type": "stream",
          "name": "stderr",
          "text": [
            "Epoch [2/4]: 100%|██████████| 1915/1915 [03:02<00:00, 10.50it/s, train_loss=0.416]\n",
            "100%|██████████| 1915/1915 [02:10<00:00, 14.67it/s]\n",
            "100%|██████████| 375/375 [00:25<00:00, 14.56it/s]\n"
          ]
        },
        {
          "output_type": "stream",
          "name": "stdout",
          "text": [
            "=>Saving Checkpoint...\n",
            "Epoch: 2, Loss: 0.348266400104053, train_accuracy: 0.909887849551888, test_accuracy: 0.9000833333333333\n"
          ]
        },
        {
          "output_type": "stream",
          "name": "stderr",
          "text": [
            "Epoch [3/4]: 100%|██████████| 1915/1915 [03:02<00:00, 10.51it/s, train_loss=0.785]\n",
            "100%|██████████| 1915/1915 [02:09<00:00, 14.77it/s]\n",
            "100%|██████████| 375/375 [00:25<00:00, 14.86it/s]\n"
          ]
        },
        {
          "output_type": "stream",
          "name": "stdout",
          "text": [
            "=>Saving Checkpoint...\n",
            "Epoch: 3, Loss: 0.2950233049953342, train_accuracy: 0.9288734348727492, test_accuracy: 0.9171666666666667\n"
          ]
        },
        {
          "output_type": "stream",
          "name": "stderr",
          "text": [
            "Epoch [4/4]: 100%|██████████| 1915/1915 [03:00<00:00, 10.63it/s, train_loss=0.0474]\n",
            "100%|██████████| 1915/1915 [02:09<00:00, 14.79it/s]\n",
            "100%|██████████| 375/375 [00:25<00:00, 14.89it/s]\n"
          ]
        },
        {
          "output_type": "stream",
          "name": "stdout",
          "text": [
            "=>Saving Checkpoint...\n",
            "Epoch: 4, Loss: 0.2556412646780398, train_accuracy: 0.9394028437566319, test_accuracy: 0.9195\n"
          ]
        }
      ]
    },
    {
      "cell_type": "code",
      "source": [
        "def get_smooth(arr):\n",
        "    res = []\n",
        "    s = 0\n",
        "    for ind, ele in enumerate(arr):\n",
        "        s += ele\n",
        "        res.append(s/(ind+1))\n",
        "    return res"
      ],
      "metadata": {
        "id": "rOFgTRdSPJ5S"
      },
      "execution_count": null,
      "outputs": []
    },
    {
      "cell_type": "code",
      "source": [
        "plt.plot(range(epochs), get_smooth(train_accuracies), label='train_accuracy')\n",
        "plt.plot(range(epochs), get_smooth(test_accuracies), label='test_accuracy')\n",
        "plt.legend(loc='upper right')\n",
        "print(\"Accuracyrelu is: \", acc)"
      ],
      "metadata": {
        "colab": {
          "base_uri": "https://localhost:8080/",
          "height": 447
        },
        "id": "XUT_IAryH7va",
        "outputId": "d1b5003c-0ec5-4cb5-b251-33beedd31acb"
      },
      "execution_count": null,
      "outputs": [
        {
          "output_type": "stream",
          "name": "stdout",
          "text": [
            "Accuracyrelu is:  0.9195\n"
          ]
        },
        {
          "output_type": "display_data",
          "data": {
            "text/plain": [
              "<Figure size 640x480 with 1 Axes>"
            ],
            "image/png": "[encoded data removed]"
          },
          "metadata": {}
        }
      ]
    },
    {
      "cell_type": "code",
      "source": [
        "plt.plot(range(epochs), get_smooth(train_losses), label='train_loss')\n",
        "plt.plot(range(epochs), get_smooth(test_losses), label='test_loss')\n",
        "plt.legend(loc='upper right')\n",
        "print(\"Accuracyrelu is: \", acc)"
      ],
      "metadata": {
        "colab": {
          "base_uri": "https://localhost:8080/",
          "height": 447
        },
        "id": "c3U4H2Tre3zR",
        "outputId": "220be4fd-2e95-4f7a-c54e-96acf012dda0"
      },
      "execution_count": null,
      "outputs": [
        {
          "output_type": "stream",
          "name": "stdout",
          "text": [
            "Accuracyrelu is:  0.9195\n"
          ]
        },
        {
          "output_type": "display_data",
          "data": {
            "text/plain": [
              "<Figure size 640x480 with 1 Axes>"
            ],
            "image/png": "[encoded data removed]"
          },
          "metadata": {}
        }
      ]
    },
    {
      "cell_type": "code",
      "source": [],
      "metadata": {
        "id": "pqE9HINDfINS"
      },
      "execution_count": null,
      "outputs": []
    }
  ]
}