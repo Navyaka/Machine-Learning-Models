{
  "nbformat": 4,
  "nbformat_minor": 0,
  "metadata": {
    "colab": {
      "provenance": [],
      "gpuType": "T4"
    },
    "kernelspec": {
      "name": "python3",
      "display_name": "Python 3"
    },
    "language_info": {
      "name": "python"
    },
    "accelerator": "GPU",
    "gpuClass": "standard"
  },
  "cells": [
    {
      "cell_type": "code",
      "execution_count": 1,
      "metadata": {
        "colab": {
          "base_uri": "https://localhost:8080/"
        },
        "id": "04zSZx2d_ZR2",
        "outputId": "d25e4a89-e8e6-4e04-e697-b2139225c3dd"
      },
      "outputs": [
        {
          "output_type": "stream",
          "name": "stdout",
          "text": [
            "Mounted at /content/drive\n"
          ]
        }
      ],
      "source": [
        "# from zipfile import ZipFile\n",
        "# dataset_path = \"./cnn_dataset.zip\"\n",
        "# with ZipFile(dataset_path, 'r') as z: \n",
        "#     z.extractall(path='./cnn_dataset')  \n",
        "#     print(\"Done\")\n",
        "\n",
        "from google.colab import drive\n",
        "drive.mount('/content/drive')"
      ]
    },
    {
      "cell_type": "code",
      "source": [
        "import os\n",
        "import re\n",
        "import numpy as np\n",
        "import pandas as pd\n",
        "import matplotlib.pyplot as plt\n",
        "\n",
        "from PIL import Image\n",
        "from tqdm import tqdm\n",
        "from sklearn import metrics\n",
        "from sklearn.model_selection import train_test_split\n",
        "\n",
        "import torch\n",
        "from torch import nn, optim\n",
        "import torch.nn.functional as F\n",
        "\n",
        "import albumentations as A\n",
        "from albumentations.pytorch import ToTensorV2"
      ],
      "metadata": {
        "id": "-hM1tcd__yV_"
      },
      "execution_count": 2,
      "outputs": []
    },
    {
      "cell_type": "code",
      "source": [
        "class Dataset:\n",
        "    def __init__(self, img_paths, labels, transform=None):\n",
        "        self.img_paths = img_paths\n",
        "        self.labels = labels\n",
        "        self.transform = transform\n",
        "\n",
        "    def __len__(self):\n",
        "        return len(self.img_paths)\n",
        "\n",
        "    def __getitem__(self, index):\n",
        "        img_path = self.img_paths[index]\n",
        "        img = np.array(Image.open(img_path))\n",
        "        label = self.labels[index]\n",
        "\n",
        "        if self.transform is not None:\n",
        "            img = self.transform(image=img)[\"image\"]\n",
        "\n",
        "        return img, torch.tensor(label, dtype=torch.long)"
      ],
      "metadata": {
        "id": "vARgz2_o_1Oc"
      },
      "execution_count": 3,
      "outputs": []
    },
    {
      "cell_type": "code",
      "source": [
        "imgs_dir = \"/content/drive/MyDrive/cnn_dataset\"\n",
        "\n",
        "img_paths, labels = [], []\n",
        "for i, d in enumerate(os.scandir(imgs_dir)):\n",
        "    for f in os.scandir(d.path):\n",
        "        img_paths.append(f.path)\n",
        "        labels.append(i) \n",
        "\n",
        "train_img_paths, test_img_paths, train_labels, test_labels = train_test_split(img_paths, labels, test_size=0.2, random_state=42, stratify=labels)"
      ],
      "metadata": {
        "id": "LnhZZRyw_1K7"
      },
      "execution_count": 4,
      "outputs": []
    },
    {
      "cell_type": "code",
      "source": [
        "HEIGHT = 224\n",
        "WIDTH = 224\n",
        "NUM_WORKERS = 0\n",
        "TRAIN_BATCH_SIZE = 32\n",
        "TEST_BATCH_SIZE = 32\n",
        "\n",
        "transform = A.Compose(\n",
        "    [\n",
        "        A.Resize(height=HEIGHT, width=WIDTH),\n",
        "        A.Normalize(\n",
        "            mean=[0.485, 0.456, 0.406],\n",
        "            std=[0.229, 0.224, 0.225],\n",
        "            max_pixel_value=255.0,\n",
        "        ),\n",
        "        ToTensorV2(),\n",
        "    ]\n",
        ")\n",
        "\n",
        "train_dataset = Dataset(train_img_paths, train_labels, transform)\n",
        "train_data_loader = torch.utils.data.DataLoader(\n",
        "    train_dataset, \n",
        "    batch_size=TRAIN_BATCH_SIZE,\n",
        "    shuffle=True,\n",
        ")\n",
        "\n",
        "test_dataset = Dataset(test_img_paths, test_labels, transform)\n",
        "test_data_loader = torch.utils.data.DataLoader(\n",
        "    test_dataset, \n",
        "    batch_size=TEST_BATCH_SIZE,\n",
        "    shuffle=False,\n",
        ")"
      ],
      "metadata": {
        "id": "yekm8FUs_1IS"
      },
      "execution_count": 5,
      "outputs": []
    },
    {
      "cell_type": "code",
      "source": [
        "import torch\n",
        "import torch.nn as nn\n",
        "\n",
        "class VGG13(nn.Module):\n",
        "    def __init__(self):\n",
        "        super(VGG13, self).__init__()\n",
        "        self.conv1 = nn.Conv2d(3, 64, kernel_size=3, padding=1)\n",
        "        self.conv2 = nn.Conv2d(64, 64, kernel_size=3, padding=1)\n",
        "        self.pool = nn.MaxPool2d(kernel_size=2, stride=2)\n",
        "        self.conv3 = nn.Conv2d(64, 128, kernel_size=3, padding=1)\n",
        "        self.conv4 = nn.Conv2d(128, 128, kernel_size=3, padding=1)\n",
        "        self.pool = nn.MaxPool2d(kernel_size=2, stride=2)\n",
        "        self.conv5 = nn.Conv2d(128, 256, kernel_size=3, padding=1)\n",
        "        self.conv6 = nn.Conv2d(256, 256, kernel_size=3, padding=1)\n",
        "        self.conv7 = nn.Conv2d(256, 256, kernel_size=3, padding=1)\n",
        "        self.pool = nn.MaxPool2d(kernel_size=2, stride=2)\n",
        "        self.conv8 = nn.Conv2d(256, 512, kernel_size=3, padding=1)\n",
        "        self.conv9 = nn.Conv2d(512, 512, kernel_size=3, padding=1)\n",
        "        self.conv10 = nn.Conv2d(512, 512, kernel_size=3, padding=1)\n",
        "        self.pool = nn.MaxPool2d(kernel_size=2, stride=2)\n",
        "        self.conv11 = nn.Conv2d(512, 512, kernel_size=3, padding=1)\n",
        "        self.conv12 = nn.Conv2d(512, 512, kernel_size=3, padding=1)\n",
        "        self.conv13 = nn.Conv2d(512, 512, kernel_size=3, padding=1)\n",
        "        self.pool = nn.MaxPool2d(kernel_size=2, stride=2)\n",
        "        self.fc1 = nn.Linear(512*7*7, 4096)\n",
        "        self.fc2 = nn.Linear(4096, 4096)\n",
        "        self.fc3 = nn.Linear(4096, 1000)\n",
        "        \n",
        "    def forward(self, x):\n",
        "        x = self.conv1(x)\n",
        "        x = nn.ReLU()(x)\n",
        "        x = self.conv2(x)\n",
        "        x = nn.ReLU()(x)\n",
        "        x = self.pool(x)\n",
        "        x = self.conv3(x)\n",
        "        x = nn.ReLU()(x)\n",
        "        x = self.conv4(x)\n",
        "        x = nn.ReLU()(x)\n",
        "        x = self.pool(x)\n",
        "        x = self.conv5(x)\n",
        "        x = nn.ReLU()(x)\n",
        "        x = self.conv6(x)\n",
        "        x = nn.ReLU()(x)\n",
        "        x = self.conv7(x)\n",
        "        x = nn.ReLU()(x)\n",
        "        x = self.pool(x)\n",
        "        x = self.conv8(x)\n",
        "        x = nn.ReLU()(x)\n",
        "        x = self.conv9(x)\n",
        "        x = nn.ReLU()(x)\n",
        "        x = self.conv10(x)\n",
        "        x = nn.ReLU()(x)\n",
        "        x = self.pool(x)\n",
        "        x = self.conv11(x)\n",
        "        x = nn.ReLU()(x)\n",
        "        x = self.conv12(x)\n",
        "        x = nn.ReLU()(x)\n",
        "        x = self.conv13(x)\n",
        "        x = nn.ReLU()(x)\n",
        "        x = self.pool(x)\n",
        "        x = x.view(-1, 512*7*7)\n",
        "        x = self.fc1(x)\n",
        "        x = nn.ReLU()(x)\n",
        "        x = nn.Dropout(p=0.5)(x)\n",
        "        x = self.fc2(x)\n",
        "        x = nn.ReLU()(x)\n",
        "        x = nn.Dropout(p=0.5)(x)\n",
        "        x = self.fc3(x)\n",
        "        x = nn.Softmax(dim=1)(x)\n",
        "        return x\n"
      ],
      "metadata": {
        "id": "o5JaNsJc_1Fz"
      },
      "execution_count": 8,
      "outputs": []
    },
    {
      "cell_type": "code",
      "source": [
        "def train(train_data_loader, model, criterion, optimizer, epoch):\n",
        "    model.train()\n",
        "    losses = []\n",
        "\n",
        "    train_progress_bar = tqdm(enumerate(train_data_loader), total=len(train_data_loader), leave=True)\n",
        "    for batch_idx, (imgs, labels) in train_progress_bar:\n",
        "        imgs = imgs.to(DEVICE)\n",
        "        labels = labels.to(DEVICE)\n",
        "        outputs = model(imgs)\n",
        "        loss = criterion(outputs, labels)\n",
        "        \n",
        "        optimizer.zero_grad()\n",
        "        loss.backward()\n",
        "        optimizer.step()\n",
        "\n",
        "        train_progress_bar.set_description(f\"Epoch [{epoch}/{epochs-1}]\")\n",
        "        train_progress_bar.set_postfix(train_loss=loss.item())\n",
        "        losses.append(loss.item())\n",
        "        \n",
        "    train_progress_bar.close()\n",
        "    return sum(losses) / len(losses)\n",
        "\n",
        "def evaluate(test_data_loader, model, criterion):\n",
        "    model.eval()\n",
        "    losses = []\n",
        "    predictions = []\n",
        "    targets = []\n",
        "\n",
        "    test_progress_bar = tqdm(enumerate(test_data_loader), total=len(test_data_loader), leave=True)\n",
        "    for _, (imgs, labels) in test_progress_bar:\n",
        "        imgs = imgs.to(device=DEVICE)\n",
        "        labels = labels.to(DEVICE)\n",
        "\n",
        "        with torch.no_grad():\n",
        "            outputs = model(imgs)\n",
        "            loss = criterion(outputs, labels)\n",
        "            losses.append(loss.item())\n",
        "\n",
        "        predictions.append(torch.softmax(outputs, dim=1).detach().cpu())\n",
        "        targets.append(labels.detach().cpu())\n",
        "\n",
        "    predictions = torch.cat(predictions, dim=0).numpy().argmax(axis=1)\n",
        "    targets = torch.cat(targets, dim=0).view(-1).numpy()\n",
        "\n",
        "    accuracy = metrics.accuracy_score(targets, predictions)\n",
        "    test_progress_bar.close()\n",
        "    return sum(losses)/len(losses), accuracy"
      ],
      "metadata": {
        "id": "mf9xLn7z_1DP"
      },
      "execution_count": 9,
      "outputs": []
    },
    {
      "cell_type": "code",
      "source": [
        "def save_checkpoint(model, optimizer, filename=\"model.pth.tar\"):\n",
        "    print(\"=>Saving Checkpoint...\")\n",
        "    checkpoint = {\"state_dict\": model.state_dict(), \"optimizer\": optimizer.state_dict()}\n",
        "    torch.save(checkpoint, filename)\n",
        "\n",
        "def load_checkpoint(checkpoint_path, model, optimizer):\n",
        "    print(\"=>Loading Checkpoint...\")\n",
        "    checkpoint = torch.load(checkpoint_path, map_location=DEVICE)\n",
        "    model.load_state_dict(checkpoint[\"state_dict\"])\n",
        "    optimizer.load_state_dict(checkpoint[\"optimizer\"])"
      ],
      "metadata": {
        "id": "eZAfl1FoACph"
      },
      "execution_count": 10,
      "outputs": []
    },
    {
      "cell_type": "code",
      "source": [
        "DEVICE = torch.device(\"cuda\" if torch.cuda.is_available() else \"cpu\")\n",
        "LOAD_MODEL = False\n",
        "learning_rate = 1e-4\n",
        "epochs = 1\n",
        "\n",
        "model = VGG13()\n",
        "model = model.to(DEVICE)\n",
        "\n",
        "criterion = nn.CrossEntropyLoss()\n",
        "optimizer = optim.Adam(model.parameters(), lr=learning_rate)\n",
        "\n",
        "if LOAD_MODEL: \n",
        "    load_checkpoint(f\"model.pth.tar\", model, optimizer)\n",
        "\n",
        "train_losses, test_losses, train_accuracies, test_accuracies = [], [], [], []\n",
        "acc = -float(\"inf\")\n",
        "for epoch in range(epochs):\n",
        "    train_loss = train(train_data_loader, model, criterion, optimizer, epoch)  \n",
        "    _, train_accuracy = evaluate(train_data_loader, model, criterion) \n",
        "    test_loss, test_accuracy = evaluate(test_data_loader, model, criterion)\n",
        "\n",
        "    if test_accuracy > acc:\n",
        "        save_checkpoint(model, optimizer, filename=f\"model.h5\")\n",
        "        acc = test_accuracy\n",
        "\n",
        "    train_losses.append(train_loss)\n",
        "    test_losses.append(test_loss)\n",
        "    train_accuracies.append(train_accuracy)\n",
        "    test_accuracies.append(test_accuracy)\n",
        "    print(f\"Epoch: {epoch}, Loss: {train_loss}, train_accuracy: {train_accuracy}, test_accuracy: {test_accuracy}\")"
      ],
      "metadata": {
        "colab": {
          "base_uri": "https://localhost:8080/"
        },
        "id": "h7mP8ulKAClS",
        "outputId": "aa0049a0-73ea-456c-89bb-7492c8ca442d"
      },
      "execution_count": null,
      "outputs": [
        {
          "output_type": "stream",
          "name": "stderr",
          "text": [
            "Epoch [0/0]:  71%|███████   | 530/751 [3:21:49<1:31:00, 24.71s/it, train_loss=6.5]"
          ]
        }
      ]
    },
    {
      "cell_type": "code",
      "source": [
        "def get_smooth(arr):\n",
        "    res = []\n",
        "    s = 0\n",
        "    for ind, ele in enumerate(arr):\n",
        "        s += ele\n",
        "        res.append(s/(ind+1))\n",
        "    return res"
      ],
      "metadata": {
        "id": "QLcZq-1I_1Ar"
      },
      "execution_count": null,
      "outputs": []
    },
    {
      "cell_type": "code",
      "source": [
        "plt.plot(range(epochs), get_smooth(train_accuracies), label='train_accuracy')\n",
        "plt.plot(range(epochs), get_smooth(test_accuracies), label='test_accuracy')\n",
        "plt.legend(loc='upper right')\n",
        "print(\"Accuracyrelu is: \", acc)"
      ],
      "metadata": {
        "id": "QlOmRLZR_09_"
      },
      "execution_count": null,
      "outputs": []
    },
    {
      "cell_type": "code",
      "source": [
        "plt.plot(range(epochs), get_smooth(train_losses), label='train_loss')\n",
        "plt.plot(range(epochs), get_smooth(test_losses), label='test_loss')\n",
        "plt.legend(loc='upper right')\n",
        "print(\"Accuracyrelu is: \", acc)"
      ],
      "metadata": {
        "id": "PGgU6OqHHiy_"
      },
      "execution_count": null,
      "outputs": []
    }
  ]
}