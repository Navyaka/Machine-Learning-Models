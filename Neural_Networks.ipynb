{
 "cells": [
  {
   "cell_type": "code",
   "execution_count": 2,
   "metadata": {
    "id": "nd3ScuS0OOqN"
   },
   "outputs": [],
   "source": [
    "import numpy as np\n",
    "import pandas as pd\n",
    "from tqdm import tqdm\n",
    "import matplotlib.pyplot as plt\n",
    "\n",
    "import torch\n",
    "import torch.nn as nn\n",
    "import torch.optim as optim\n",
    "from torch.utils.data import DataLoader\n",
    "\n",
    "from sklearn import metrics\n",
    "from sklearn.preprocessing import OneHotEncoder\n",
    "from sklearn.preprocessing import StandardScaler\n",
    "from sklearn.model_selection import train_test_split"
   ]
  },
  {
   "cell_type": "code",
   "execution_count": 10,
   "metadata": {},
   "outputs": [],
   "source": [
    "#pip install torch\n"
   ]
  },
  {
   "cell_type": "code",
   "execution_count": 4,
   "metadata": {
    "colab": {
     "base_uri": "https://localhost:8080/",
     "height": 206
    },
    "id": "lmeFsPbDjZ9i",
    "outputId": "284c5b6e-c65a-4994-cf60-45350bba5eb5"
   },
   "outputs": [
    {
     "data": {
      "text/html": [
       "<div>\n",
       "<style scoped>\n",
       "    .dataframe tbody tr th:only-of-type {\n",
       "        vertical-align: middle;\n",
       "    }\n",
       "\n",
       "    .dataframe tbody tr th {\n",
       "        vertical-align: top;\n",
       "    }\n",
       "\n",
       "    .dataframe thead th {\n",
       "        text-align: right;\n",
       "    }\n",
       "</style>\n",
       "<table border=\"1\" class=\"dataframe\">\n",
       "  <thead>\n",
       "    <tr style=\"text-align: right;\">\n",
       "      <th></th>\n",
       "      <th>f1</th>\n",
       "      <th>f2</th>\n",
       "      <th>f3</th>\n",
       "      <th>f4</th>\n",
       "      <th>f5</th>\n",
       "      <th>f6</th>\n",
       "      <th>f7</th>\n",
       "      <th>target</th>\n",
       "    </tr>\n",
       "  </thead>\n",
       "  <tbody>\n",
       "    <tr>\n",
       "      <th>0</th>\n",
       "      <td>6</td>\n",
       "      <td>148</td>\n",
       "      <td>72</td>\n",
       "      <td>35</td>\n",
       "      <td>0</td>\n",
       "      <td>33.6</td>\n",
       "      <td>0.627</td>\n",
       "      <td>1</td>\n",
       "    </tr>\n",
       "    <tr>\n",
       "      <th>1</th>\n",
       "      <td>1</td>\n",
       "      <td>85</td>\n",
       "      <td>66</td>\n",
       "      <td>29</td>\n",
       "      <td>0</td>\n",
       "      <td>26.6</td>\n",
       "      <td>0.351</td>\n",
       "      <td>0</td>\n",
       "    </tr>\n",
       "    <tr>\n",
       "      <th>2</th>\n",
       "      <td>8</td>\n",
       "      <td>183</td>\n",
       "      <td>64</td>\n",
       "      <td>0</td>\n",
       "      <td>0</td>\n",
       "      <td>23.3</td>\n",
       "      <td>0.672</td>\n",
       "      <td>1</td>\n",
       "    </tr>\n",
       "    <tr>\n",
       "      <th>3</th>\n",
       "      <td>1</td>\n",
       "      <td>89</td>\n",
       "      <td>66</td>\n",
       "      <td>23</td>\n",
       "      <td>94</td>\n",
       "      <td>28.1</td>\n",
       "      <td>0.167</td>\n",
       "      <td>0</td>\n",
       "    </tr>\n",
       "    <tr>\n",
       "      <th>4</th>\n",
       "      <td>0</td>\n",
       "      <td>137</td>\n",
       "      <td>40</td>\n",
       "      <td>35</td>\n",
       "      <td>168</td>\n",
       "      <td>43.1</td>\n",
       "      <td>2.288</td>\n",
       "      <td>1</td>\n",
       "    </tr>\n",
       "  </tbody>\n",
       "</table>\n",
       "</div>"
      ],
      "text/plain": [
       "  f1   f2  f3  f4   f5    f6     f7  target\n",
       "0  6  148  72  35    0  33.6  0.627       1\n",
       "1  1   85  66  29    0  26.6  0.351       0\n",
       "2  8  183  64   0    0  23.3  0.672       1\n",
       "3  1   89  66  23   94  28.1  0.167       0\n",
       "4  0  137  40  35  168  43.1  2.288       1"
      ]
     },
     "execution_count": 4,
     "metadata": {},
     "output_type": "execute_result"
    }
   ],
   "source": [
    "df = pd.read_csv(\"dataset.csv\")\n",
    "df.head()"
   ]
  },
  {
   "cell_type": "code",
   "execution_count": 5,
   "metadata": {
    "id": "joz1_Pj1OZ-r"
   },
   "outputs": [
    {
     "data": {
      "text/plain": [
       "array([[0., 0., 0., ..., 0., 0., 0.],\n",
       "       [1., 0., 0., ..., 0., 0., 0.],\n",
       "       [0., 0., 0., ..., 0., 0., 0.],\n",
       "       ...,\n",
       "       [0., 0., 0., ..., 0., 0., 1.],\n",
       "       [0., 0., 0., ..., 0., 0., 0.],\n",
       "       [1., 0., 0., ..., 0., 0., 0.]])"
      ]
     },
     "execution_count": 5,
     "metadata": {},
     "output_type": "execute_result"
    }
   ],
   "source": [
    "enc = OneHotEncoder(drop='first', handle_unknown='ignore')\n",
    "enc.fit(df[[\"f1\", \"f2\", \"f3\", \"f4\", \"f5\"]])\n",
    "categorical = enc.transform(df[[\"f1\", \"f2\", \"f3\", \"f4\", \"f5\"]]).toarray()\n",
    "categorical"
   ]
  },
  {
   "cell_type": "code",
   "execution_count": 6,
   "metadata": {
    "id": "Hpy4wT39yfPf"
   },
   "outputs": [],
   "source": [
    "df.f6 = df.f6.apply(lambda x: \"0\" if x == \"d\" else x)\n",
    "df.f7 = df.f7.apply(lambda x: \"0\" if x == \"e\" else x)"
   ]
  },
  {
   "cell_type": "code",
   "execution_count": 7,
   "metadata": {},
   "outputs": [
    {
     "data": {
      "text/plain": [
       "0       6\n",
       "1       1\n",
       "2       8\n",
       "3       1\n",
       "4       0\n",
       "       ..\n",
       "761     9\n",
       "762    10\n",
       "763     2\n",
       "764     c\n",
       "765     1\n",
       "Name: f1, Length: 766, dtype: object"
      ]
     },
     "execution_count": 7,
     "metadata": {},
     "output_type": "execute_result"
    }
   ],
   "source": [
    "df.f1"
   ]
  },
  {
   "cell_type": "code",
   "execution_count": 8,
   "metadata": {
    "id": "AJ_WSSjEs1Po"
   },
   "outputs": [],
   "source": [
    "scaler = StandardScaler()\n",
    "scaler.fit(df[[\"f6\", \"f7\"]])\n",
    "numerical = scaler.transform(df[[\"f6\", \"f7\"]])"
   ]
  },
  {
   "cell_type": "code",
   "execution_count": 9,
   "metadata": {},
   "outputs": [
    {
     "data": {
      "text/plain": [
       "0      33.6\n",
       "1      26.6\n",
       "2      23.3\n",
       "3      28.1\n",
       "4      43.1\n",
       "       ... \n",
       "761    22.5\n",
       "762       0\n",
       "763    36.8\n",
       "764    26.2\n",
       "765    30.1\n",
       "Name: f6, Length: 766, dtype: object"
      ]
     },
     "execution_count": 9,
     "metadata": {},
     "output_type": "execute_result"
    }
   ],
   "source": [
    "df.f6"
   ]
  },
  {
   "cell_type": "code",
   "execution_count": 10,
   "metadata": {
    "id": "RYnNueNwwb9v"
   },
   "outputs": [],
   "source": [
    "X = np.concatenate([categorical, numerical], axis=1)\n",
    "y = df.target.values"
   ]
  },
  {
   "cell_type": "code",
   "execution_count": 11,
   "metadata": {},
   "outputs": [
    {
     "data": {
      "text/plain": [
       "array([1, 0, 1, 0, 1, 0, 1, 0, 1, 1, 0, 1, 0, 1, 1, 1, 1, 1, 0, 1, 0, 0,\n",
       "       1, 1, 1, 1, 1, 0, 0, 0, 0, 1, 0, 0, 0, 0, 0, 1, 1, 1, 0, 0, 0, 1,\n",
       "       0, 1, 0, 0, 1, 0, 0, 0, 0, 1, 0, 0, 1, 0, 0, 0, 0, 1, 0, 0, 1, 0,\n",
       "       1, 0, 0, 0, 1, 0, 1, 0, 0, 0, 0, 0, 1, 0, 0, 0, 0, 0, 1, 0, 0, 0,\n",
       "       1, 0, 0, 0, 0, 1, 0, 0, 0, 0, 0, 1, 1, 0, 0, 0, 0, 0, 0, 0, 0, 1,\n",
       "       1, 1, 0, 0, 1, 1, 1, 0, 0, 0, 1, 0, 0, 0, 1, 1, 0, 0, 1, 1, 1, 1,\n",
       "       1, 0, 0, 0, 0, 0, 0, 0, 0, 0, 0, 1, 0, 0, 0, 0, 0, 0, 0, 0, 1, 0,\n",
       "       1, 1, 0, 0, 0, 1, 0, 0, 0, 0, 1, 1, 0, 0, 0, 0, 1, 1, 0, 0, 0, 1,\n",
       "       0, 1, 0, 1, 0, 0, 0, 0, 0, 1, 1, 1, 1, 1, 0, 0, 1, 1, 0, 1, 0, 1,\n",
       "       1, 1, 0, 0, 0, 0, 0, 0, 1, 1, 0, 1, 0, 0, 0, 1, 1, 1, 1, 0, 1, 1,\n",
       "       1, 1, 0, 0, 0, 0, 0, 1, 0, 0, 1, 1, 0, 0, 0, 1, 1, 1, 1, 0, 0, 0,\n",
       "       1, 1, 0, 1, 0, 0, 0, 0, 0, 0, 0, 0, 1, 1, 0, 0, 0, 1, 0, 1, 0, 0,\n",
       "       1, 0, 1, 0, 0, 1, 1, 0, 0, 0, 0, 0, 1, 0, 0, 0, 1, 0, 0, 1, 1, 0,\n",
       "       0, 1, 0, 0, 0, 1, 1, 1, 0, 0, 1, 0, 1, 0, 1, 1, 0, 1, 0, 0, 1, 0,\n",
       "       1, 1, 0, 0, 1, 0, 1, 0, 0, 1, 0, 1, 0, 1, 1, 1, 0, 0, 1, 0, 1, 0,\n",
       "       0, 0, 1, 0, 0, 0, 0, 1, 1, 1, 0, 0, 0, 0, 0, 0, 0, 0, 0, 1, 0, 0,\n",
       "       0, 0, 0, 1, 1, 1, 0, 1, 1, 0, 0, 1, 0, 0, 1, 0, 0, 1, 1, 0, 0, 0,\n",
       "       0, 1, 0, 0, 1, 0, 0, 0, 0, 0, 0, 0, 1, 1, 1, 0, 0, 1, 0, 0, 1, 0,\n",
       "       0, 1, 0, 1, 1, 0, 1, 0, 1, 0, 1, 0, 1, 1, 0, 0, 0, 0, 1, 1, 0, 1,\n",
       "       0, 1, 0, 0, 0, 0, 1, 1, 0, 1, 0, 1, 0, 0, 0, 0, 0, 1, 0, 0, 0, 0,\n",
       "       1, 0, 0, 1, 1, 1, 0, 0, 1, 0, 0, 1, 0, 0, 0, 1, 0, 0, 1, 0, 0, 0,\n",
       "       0, 0, 0, 0, 0, 0, 1, 0, 0, 0, 0, 0, 0, 0, 1, 0, 0, 0, 1, 0, 0, 0,\n",
       "       1, 1, 0, 0, 0, 0, 0, 0, 0, 1, 0, 0, 0, 0, 1, 0, 0, 0, 1, 0, 0, 0,\n",
       "       1, 0, 0, 0, 1, 0, 0, 0, 0, 1, 1, 0, 0, 0, 0, 0, 0, 1, 0, 0, 0, 0,\n",
       "       0, 0, 0, 0, 0, 0, 0, 1, 0, 0, 0, 1, 1, 1, 1, 0, 0, 1, 1, 0, 0, 0,\n",
       "       0, 0, 0, 0, 0, 0, 0, 0, 0, 0, 1, 1, 0, 0, 0, 0, 0, 0, 0, 1, 0, 0,\n",
       "       0, 0, 0, 0, 0, 1, 0, 1, 1, 0, 0, 0, 1, 0, 1, 0, 1, 0, 1, 0, 1, 0,\n",
       "       0, 1, 0, 0, 1, 0, 0, 0, 0, 1, 1, 0, 1, 0, 0, 0, 0, 1, 1, 0, 1, 0,\n",
       "       0, 0, 1, 1, 0, 0, 0, 0, 0, 0, 0, 0, 0, 0, 1, 0, 0, 0, 0, 1, 0, 0,\n",
       "       1, 0, 0, 0, 1, 0, 0, 0, 1, 1, 1, 0, 0, 0, 0, 0, 0, 1, 0, 0, 0, 1,\n",
       "       0, 1, 1, 1, 1, 0, 1, 1, 0, 0, 0, 0, 0, 0, 0, 1, 1, 0, 1, 0, 0, 1,\n",
       "       0, 1, 0, 0, 0, 0, 0, 1, 0, 1, 0, 1, 0, 1, 1, 0, 0, 0, 0, 1, 1, 0,\n",
       "       0, 0, 1, 0, 1, 1, 0, 0, 1, 0, 0, 1, 1, 0, 0, 1, 0, 0, 1, 0, 0, 0,\n",
       "       0, 0, 0, 0, 1, 1, 1, 0, 0, 0, 0, 0, 0, 1, 1, 0, 0, 1, 0, 0, 1, 0,\n",
       "       1, 1, 1, 0, 0, 1, 1, 1, 0, 1, 0, 1, 1, 0, 0, 0, 0, 1])"
      ]
     },
     "execution_count": 11,
     "metadata": {},
     "output_type": "execute_result"
    }
   ],
   "source": [
    "y\n"
   ]
  },
  {
   "cell_type": "code",
   "execution_count": 12,
   "metadata": {
    "id": "RKZk64PhzONW"
   },
   "outputs": [],
   "source": [
    "X_train, X_test, y_train, y_test = train_test_split(X, y, test_size=0.2, random_state=42, stratify=y)"
   ]
  },
  {
   "cell_type": "code",
   "execution_count": 13,
   "metadata": {
    "id": "LC3LhpDrnYXt"
   },
   "outputs": [],
   "source": [
    "class Dataset:\n",
    "    def __init__(self, X, y):\n",
    "        self.X = X\n",
    "        self.y = y\n",
    "\n",
    "    def __len__(self):\n",
    "        return len(self.X)\n",
    "\n",
    "    def __getitem__(self, index):\n",
    "        x = self.X[index]\n",
    "        y = self.y[index]\n",
    "        return torch.tensor(x, dtype=torch.float), torch.tensor(y, dtype=torch.float)"
   ]
  },
  {
   "cell_type": "code",
   "execution_count": 14,
   "metadata": {
    "id": "Bil6YMJGnYUU"
   },
   "outputs": [],
   "source": [
    "train_dataset = Dataset(X_train, y_train)\n",
    "train_data_loader = DataLoader(\n",
    "    train_dataset,\n",
    "    batch_size=16,\n",
    "    num_workers=0,\n",
    "    pin_memory=False,\n",
    "    shuffle=True,\n",
    ")\n",
    "\n",
    "test_dataset = Dataset(X_test, y_test)\n",
    "test_data_loader = DataLoader(\n",
    "    test_dataset,\n",
    "    batch_size=8,\n",
    "    num_workers=0,\n",
    "    pin_memory=False,\n",
    "    shuffle=False,\n",
    ")"
   ]
  },
  {
   "cell_type": "code",
   "execution_count": 15,
   "metadata": {
    "id": "Qqs-mEkq0alG"
   },
   "outputs": [],
   "source": [
    "class NeuralNetwork(nn.Module):\n",
    "    def __init__(self, in_features):\n",
    "        super().__init__()\n",
    "        self.linear_relu_stack = nn.Sequential(\n",
    "            nn.Linear(in_features, 64),\n",
    "            nn.ReLU(),\n",
    "            nn.Dropout(0.8),\n",
    "            nn.Linear(64, 32),\n",
    "            nn.ReLU(),\n",
    "            nn.Dropout(0.8),\n",
    "            nn.Linear(32, 8),\n",
    "            nn.ReLU(),\n",
    "            nn.Linear(8, 1)\n",
    "        )\n",
    "\n",
    "    def forward(self, x):\n",
    "        return self.linear_relu_stack(x)"
   ]
  },
  {
   "cell_type": "code",
   "execution_count": 16,
   "metadata": {
    "id": "RVR5bSab58BN"
   },
   "outputs": [],
   "source": [
    "def save_checkpoint(model, optimizer, filename=\"model.pth.tar\"):\n",
    "    print(\"=>Saving Checkpoint...\")\n",
    "    checkpoint = {\"state_dict\": model.state_dict(), \"optimizer\": optimizer.state_dict()}\n",
    "    torch.save(checkpoint, filename)\n",
    "\n",
    "def load_checkpoint(checkpoint_path, model, optimizer):\n",
    "    print(\"=>Loading Checkpoint...\")\n",
    "    checkpoint = torch.load(checkpoint_path, map_location=DEVICE)\n",
    "    model.load_state_dict(checkpoint[\"state_dict\"])\n",
    "    optimizer.load_state_dict(checkpoint[\"optimizer\"])"
   ]
  },
  {
   "cell_type": "code",
   "execution_count": 17,
   "metadata": {
    "id": "nZUMsZ6r37WO"
   },
   "outputs": [],
   "source": [
    "def train(train_data_loader, model, bce, optimizer, epoch):\n",
    "    model.train()\n",
    "    losses = []\n",
    "\n",
    "    train_progress_bar = tqdm(enumerate(train_data_loader), total=len(train_data_loader), leave=False)\n",
    "    for batch_idx, (X, y) in train_progress_bar:\n",
    "        X = X.to(DEVICE)\n",
    "        y = y.unsqueeze(1).to(DEVICE)\n",
    "        outputs = model(X)\n",
    "        loss = bce(outputs, y)\n",
    "        \n",
    "        optimizer.zero_grad()\n",
    "        loss.backward()\n",
    "        optimizer.step()\n",
    "\n",
    "        train_progress_bar.set_description(f\"Epoch [{epoch}/{epochs-1}]\")\n",
    "        train_progress_bar.set_postfix(train_loss=loss.item())\n",
    "        losses.append(loss.item())\n",
    "        \n",
    "    train_progress_bar.close()\n",
    "    return sum(losses) / len(losses)"
   ]
  },
  {
   "cell_type": "code",
   "execution_count": 18,
   "metadata": {
    "id": "n_GP5V4B59kv"
   },
   "outputs": [],
   "source": [
    "def evaluate(test_data_loader, model):\n",
    "    model.eval()\n",
    "    predictions = []\n",
    "    targets = []\n",
    "\n",
    "    for X, y in tqdm(test_data_loader):\n",
    "        X = X.to(device=DEVICE)\n",
    "        y = y.to(DEVICE)\n",
    "\n",
    "        with torch.no_grad():\n",
    "            outputs = model(X)\n",
    "\n",
    "        predictions.append(torch.sigmoid(outputs).detach().cpu())\n",
    "        targets.append(y.detach().cpu())\n",
    "\n",
    "    predictions = torch.cat(predictions, dim=0).view(-1).numpy()\n",
    "    targets = torch.cat(targets, dim=0).view(-1).numpy()\n",
    "\n",
    "    accuracy = metrics.accuracy_score(targets, predictions > 0.5)\n",
    "    return accuracy"
   ]
  },
  {
   "cell_type": "code",
   "execution_count": 19,
   "metadata": {
    "colab": {
     "base_uri": "https://localhost:8080/"
    },
    "id": "y_SckSf-5UX1",
    "outputId": "48740c8a-5c2e-4790-c14b-da9fa8a54b94"
   },
   "outputs": [
    {
     "name": "stderr",
     "output_type": "stream",
     "text": [
      "100%|█████████████████████████████████████████| 20/20 [00:00<00:00, 3755.98it/s]\n",
      "100%|█████████████████████████████████████████| 39/39 [00:00<00:00, 2239.69it/s]\n"
     ]
    },
    {
     "name": "stdout",
     "output_type": "stream",
     "text": [
      "=>Saving Checkpoint...\n",
      "Epoch: 0, Loss: 0.6444782790465232, train_accuracy: 0.6503267973856209, test_accuracy: 0.6493506493506493\n"
     ]
    },
    {
     "name": "stderr",
     "output_type": "stream",
     "text": [
      "100%|█████████████████████████████████████████| 20/20 [00:00<00:00, 4105.22it/s]\n",
      "100%|█████████████████████████████████████████| 39/39 [00:00<00:00, 3145.91it/s]\n"
     ]
    },
    {
     "name": "stdout",
     "output_type": "stream",
     "text": [
      "Epoch: 1, Loss: 0.6308793952831855, train_accuracy: 0.6503267973856209, test_accuracy: 0.6493506493506493\n"
     ]
    },
    {
     "name": "stderr",
     "output_type": "stream",
     "text": [
      "100%|█████████████████████████████████████████| 20/20 [00:00<00:00, 4199.76it/s]\n",
      "100%|█████████████████████████████████████████| 39/39 [00:00<00:00, 3197.50it/s]\n"
     ]
    },
    {
     "name": "stdout",
     "output_type": "stream",
     "text": [
      "Epoch: 2, Loss: 0.5882705893272009, train_accuracy: 0.7189542483660131, test_accuracy: 0.6493506493506493\n"
     ]
    },
    {
     "name": "stderr",
     "output_type": "stream",
     "text": [
      "100%|█████████████████████████████████████████| 20/20 [00:00<00:00, 3765.76it/s]\n",
      "100%|█████████████████████████████████████████| 39/39 [00:00<00:00, 3627.24it/s]\n"
     ]
    },
    {
     "name": "stdout",
     "output_type": "stream",
     "text": [
      "Epoch: 3, Loss: 0.5821444690227509, train_accuracy: 0.7565359477124183, test_accuracy: 0.6363636363636364\n"
     ]
    },
    {
     "name": "stderr",
     "output_type": "stream",
     "text": [
      "100%|█████████████████████████████████████████| 20/20 [00:00<00:00, 2463.61it/s]\n",
      "100%|█████████████████████████████████████████| 39/39 [00:00<00:00, 3048.07it/s]\n"
     ]
    },
    {
     "name": "stdout",
     "output_type": "stream",
     "text": [
      "Epoch: 4, Loss: 0.593010290310933, train_accuracy: 0.7679738562091504, test_accuracy: 0.6363636363636364\n"
     ]
    },
    {
     "name": "stderr",
     "output_type": "stream",
     "text": [
      "100%|█████████████████████████████████████████| 20/20 [00:00<00:00, 3962.12it/s]\n",
      "100%|█████████████████████████████████████████| 39/39 [00:00<00:00, 3743.20it/s]\n"
     ]
    },
    {
     "name": "stdout",
     "output_type": "stream",
     "text": [
      "Epoch: 5, Loss: 0.581298984778233, train_accuracy: 0.7418300653594772, test_accuracy: 0.6493506493506493\n"
     ]
    },
    {
     "name": "stderr",
     "output_type": "stream",
     "text": [
      "100%|█████████████████████████████████████████| 20/20 [00:00<00:00, 2965.53it/s]\n",
      "100%|█████████████████████████████████████████| 39/39 [00:00<00:00, 2993.52it/s]\n"
     ]
    },
    {
     "name": "stdout",
     "output_type": "stream",
     "text": [
      "=>Saving Checkpoint...\n",
      "Epoch: 6, Loss: 0.5539293740040216, train_accuracy: 0.8186274509803921, test_accuracy: 0.6688311688311688\n"
     ]
    },
    {
     "name": "stderr",
     "output_type": "stream",
     "text": [
      "100%|█████████████████████████████████████████| 20/20 [00:00<00:00, 3515.61it/s]\n",
      "100%|█████████████████████████████████████████| 39/39 [00:00<00:00, 3133.80it/s]\n"
     ]
    },
    {
     "name": "stdout",
     "output_type": "stream",
     "text": [
      "=>Saving Checkpoint...\n",
      "Epoch: 7, Loss: 0.5344749222963284, train_accuracy: 0.8382352941176471, test_accuracy: 0.7077922077922078\n"
     ]
    },
    {
     "name": "stderr",
     "output_type": "stream",
     "text": [
      "100%|█████████████████████████████████████████| 20/20 [00:00<00:00, 3856.48it/s]\n",
      "100%|█████████████████████████████████████████| 39/39 [00:00<00:00, 2398.26it/s]\n"
     ]
    },
    {
     "name": "stdout",
     "output_type": "stream",
     "text": [
      "Epoch: 8, Loss: 0.5095695165487436, train_accuracy: 0.8496732026143791, test_accuracy: 0.7012987012987013\n"
     ]
    },
    {
     "name": "stderr",
     "output_type": "stream",
     "text": [
      "100%|█████████████████████████████████████████| 20/20 [00:00<00:00, 2954.57it/s]\n",
      "100%|█████████████████████████████████████████| 39/39 [00:00<00:00, 3029.78it/s]\n"
     ]
    },
    {
     "name": "stdout",
     "output_type": "stream",
     "text": [
      "=>Saving Checkpoint...\n",
      "Epoch: 9, Loss: 0.4880106166387216, train_accuracy: 0.8627450980392157, test_accuracy: 0.7142857142857143\n"
     ]
    },
    {
     "name": "stderr",
     "output_type": "stream",
     "text": [
      "100%|█████████████████████████████████████████| 20/20 [00:00<00:00, 2934.21it/s]\n",
      "100%|█████████████████████████████████████████| 39/39 [00:00<00:00, 2588.99it/s]\n"
     ]
    },
    {
     "name": "stdout",
     "output_type": "stream",
     "text": [
      "Epoch: 10, Loss: 0.4484957777536832, train_accuracy: 0.880718954248366, test_accuracy: 0.7012987012987013\n"
     ]
    },
    {
     "name": "stderr",
     "output_type": "stream",
     "text": [
      "100%|█████████████████████████████████████████| 20/20 [00:00<00:00, 3884.15it/s]\n",
      "100%|█████████████████████████████████████████| 39/39 [00:00<00:00, 3300.80it/s]\n"
     ]
    },
    {
     "name": "stdout",
     "output_type": "stream",
     "text": [
      "Epoch: 11, Loss: 0.41849326839049655, train_accuracy: 0.8774509803921569, test_accuracy: 0.7077922077922078\n"
     ]
    },
    {
     "name": "stderr",
     "output_type": "stream",
     "text": [
      "100%|█████████████████████████████████████████| 20/20 [00:00<00:00, 4331.84it/s]\n",
      "100%|█████████████████████████████████████████| 39/39 [00:00<00:00, 3020.16it/s]\n"
     ]
    },
    {
     "name": "stdout",
     "output_type": "stream",
     "text": [
      "Epoch: 12, Loss: 0.46709777070925784, train_accuracy: 0.8839869281045751, test_accuracy: 0.6883116883116883\n"
     ]
    },
    {
     "name": "stderr",
     "output_type": "stream",
     "text": [
      "100%|█████████████████████████████████████████| 20/20 [00:00<00:00, 3892.63it/s]\n",
      "100%|█████████████████████████████████████████| 39/39 [00:00<00:00, 3176.64it/s]\n"
     ]
    },
    {
     "name": "stdout",
     "output_type": "stream",
     "text": [
      "Epoch: 13, Loss: 0.4476960347248958, train_accuracy: 0.8905228758169934, test_accuracy: 0.7142857142857143\n"
     ]
    },
    {
     "name": "stderr",
     "output_type": "stream",
     "text": [
      "100%|█████████████████████████████████████████| 20/20 [00:00<00:00, 2886.85it/s]\n",
      "100%|█████████████████████████████████████████| 39/39 [00:00<00:00, 3696.67it/s]\n"
     ]
    },
    {
     "name": "stdout",
     "output_type": "stream",
     "text": [
      "Epoch: 14, Loss: 0.40946092150914365, train_accuracy: 0.8970588235294118, test_accuracy: 0.7012987012987013\n"
     ]
    },
    {
     "name": "stderr",
     "output_type": "stream",
     "text": [
      "100%|█████████████████████████████████████████| 20/20 [00:00<00:00, 3865.54it/s]\n",
      "100%|█████████████████████████████████████████| 39/39 [00:00<00:00, 3768.12it/s]\n"
     ]
    },
    {
     "name": "stdout",
     "output_type": "stream",
     "text": [
      "Epoch: 15, Loss: 0.39136877732399183, train_accuracy: 0.9019607843137255, test_accuracy: 0.6948051948051948\n"
     ]
    },
    {
     "name": "stderr",
     "output_type": "stream",
     "text": [
      "100%|█████████████████████████████████████████| 20/20 [00:00<00:00, 4067.60it/s]\n",
      "100%|█████████████████████████████████████████| 39/39 [00:00<00:00, 3316.06it/s]\n"
     ]
    },
    {
     "name": "stdout",
     "output_type": "stream",
     "text": [
      "Epoch: 16, Loss: 0.3868606159320244, train_accuracy: 0.9117647058823529, test_accuracy: 0.7077922077922078\n"
     ]
    },
    {
     "name": "stderr",
     "output_type": "stream",
     "text": [
      "100%|█████████████████████████████████████████| 20/20 [00:00<00:00, 3660.27it/s]\n",
      "100%|█████████████████████████████████████████| 39/39 [00:00<00:00, 3353.72it/s]\n"
     ]
    },
    {
     "name": "stdout",
     "output_type": "stream",
     "text": [
      "Epoch: 17, Loss: 0.4201332468252916, train_accuracy: 0.9133986928104575, test_accuracy: 0.6883116883116883\n"
     ]
    },
    {
     "name": "stderr",
     "output_type": "stream",
     "text": [
      "100%|█████████████████████████████████████████| 20/20 [00:00<00:00, 4129.67it/s]\n",
      "100%|█████████████████████████████████████████| 39/39 [00:00<00:00, 3219.72it/s]\n"
     ]
    },
    {
     "name": "stdout",
     "output_type": "stream",
     "text": [
      "Epoch: 18, Loss: 0.32315607292529863, train_accuracy: 0.9084967320261438, test_accuracy: 0.6753246753246753\n"
     ]
    },
    {
     "name": "stderr",
     "output_type": "stream",
     "text": [
      "100%|█████████████████████████████████████████| 20/20 [00:00<00:00, 4195.56it/s]\n",
      "100%|█████████████████████████████████████████| 39/39 [00:00<00:00, 3288.06it/s]\n"
     ]
    },
    {
     "name": "stdout",
     "output_type": "stream",
     "text": [
      "Epoch: 19, Loss: 0.36081765592098236, train_accuracy: 0.923202614379085, test_accuracy: 0.7012987012987013\n"
     ]
    },
    {
     "name": "stderr",
     "output_type": "stream",
     "text": [
      "100%|█████████████████████████████████████████| 20/20 [00:00<00:00, 3731.92it/s]\n",
      "100%|█████████████████████████████████████████| 39/39 [00:00<00:00, 3403.48it/s]\n"
     ]
    },
    {
     "name": "stdout",
     "output_type": "stream",
     "text": [
      "Epoch: 20, Loss: 0.38387191142791355, train_accuracy: 0.9248366013071896, test_accuracy: 0.7077922077922078\n"
     ]
    },
    {
     "name": "stderr",
     "output_type": "stream",
     "text": [
      "100%|█████████████████████████████████████████| 20/20 [00:00<00:00, 2757.05it/s]\n",
      "100%|█████████████████████████████████████████| 39/39 [00:00<00:00, 3306.54it/s]\n"
     ]
    },
    {
     "name": "stdout",
     "output_type": "stream",
     "text": [
      "Epoch: 21, Loss: 0.37159300232544923, train_accuracy: 0.9297385620915033, test_accuracy: 0.7077922077922078\n"
     ]
    },
    {
     "name": "stderr",
     "output_type": "stream",
     "text": [
      "100%|█████████████████████████████████████████| 20/20 [00:00<00:00, 2921.74it/s]\n",
      "100%|█████████████████████████████████████████| 39/39 [00:00<00:00, 3076.91it/s]\n"
     ]
    },
    {
     "name": "stdout",
     "output_type": "stream",
     "text": [
      "Epoch: 22, Loss: 0.30009184777736664, train_accuracy: 0.9330065359477124, test_accuracy: 0.7012987012987013\n"
     ]
    },
    {
     "name": "stderr",
     "output_type": "stream",
     "text": [
      "100%|█████████████████████████████████████████| 20/20 [00:00<00:00, 3903.13it/s]\n",
      "100%|█████████████████████████████████████████| 39/39 [00:00<00:00, 3321.98it/s]\n"
     ]
    },
    {
     "name": "stdout",
     "output_type": "stream",
     "text": [
      "Epoch: 23, Loss: 0.3318351967594562, train_accuracy: 0.9313725490196079, test_accuracy: 0.7012987012987013\n"
     ]
    },
    {
     "name": "stderr",
     "output_type": "stream",
     "text": [
      "100%|█████████████████████████████████████████| 20/20 [00:00<00:00, 4156.27it/s]\n",
      "100%|█████████████████████████████████████████| 39/39 [00:00<00:00, 2947.61it/s]\n"
     ]
    },
    {
     "name": "stdout",
     "output_type": "stream",
     "text": [
      "=>Saving Checkpoint...\n",
      "Epoch: 24, Loss: 0.31316361480798477, train_accuracy: 0.9395424836601307, test_accuracy: 0.7207792207792207\n"
     ]
    },
    {
     "name": "stderr",
     "output_type": "stream",
     "text": [
      "100%|█████████████████████████████████████████| 20/20 [00:00<00:00, 4133.13it/s]\n",
      "100%|█████████████████████████████████████████| 39/39 [00:00<00:00, 2851.88it/s]\n"
     ]
    },
    {
     "name": "stdout",
     "output_type": "stream",
     "text": [
      "Epoch: 25, Loss: 0.31435717680515385, train_accuracy: 0.9395424836601307, test_accuracy: 0.7077922077922078\n"
     ]
    },
    {
     "name": "stderr",
     "output_type": "stream",
     "text": [
      "100%|█████████████████████████████████████████| 20/20 [00:00<00:00, 3655.64it/s]\n",
      "100%|█████████████████████████████████████████| 39/39 [00:00<00:00, 3671.29it/s]\n"
     ]
    },
    {
     "name": "stdout",
     "output_type": "stream",
     "text": [
      "Epoch: 26, Loss: 0.2778303740689388, train_accuracy: 0.9411764705882353, test_accuracy: 0.7077922077922078\n"
     ]
    },
    {
     "name": "stderr",
     "output_type": "stream",
     "text": [
      "100%|█████████████████████████████████████████| 20/20 [00:00<00:00, 3417.64it/s]\n",
      "100%|█████████████████████████████████████████| 39/39 [00:00<00:00, 2915.67it/s]\n"
     ]
    },
    {
     "name": "stdout",
     "output_type": "stream",
     "text": [
      "Epoch: 27, Loss: 0.2678683801339223, train_accuracy: 0.9428104575163399, test_accuracy: 0.7012987012987013\n"
     ]
    },
    {
     "name": "stderr",
     "output_type": "stream",
     "text": [
      "100%|█████████████████████████████████████████| 20/20 [00:00<00:00, 3508.12it/s]\n",
      "100%|█████████████████████████████████████████| 39/39 [00:00<00:00, 3267.70it/s]\n"
     ]
    },
    {
     "name": "stdout",
     "output_type": "stream",
     "text": [
      "Epoch: 28, Loss: 0.2727032066919865, train_accuracy: 0.9477124183006536, test_accuracy: 0.7012987012987013\n"
     ]
    },
    {
     "name": "stderr",
     "output_type": "stream",
     "text": [
      "100%|█████████████████████████████████████████| 20/20 [00:00<00:00, 3478.15it/s]\n",
      "100%|█████████████████████████████████████████| 39/39 [00:00<00:00, 2765.57it/s]\n"
     ]
    },
    {
     "name": "stdout",
     "output_type": "stream",
     "text": [
      "Epoch: 29, Loss: 0.29670819582847446, train_accuracy: 0.9477124183006536, test_accuracy: 0.7077922077922078\n"
     ]
    },
    {
     "name": "stderr",
     "output_type": "stream",
     "text": [
      "100%|█████████████████████████████████████████| 20/20 [00:00<00:00, 4127.24it/s]\n",
      "100%|█████████████████████████████████████████| 39/39 [00:00<00:00, 3351.73it/s]\n"
     ]
    },
    {
     "name": "stdout",
     "output_type": "stream",
     "text": [
      "Epoch: 30, Loss: 0.2773410372245006, train_accuracy: 0.9526143790849673, test_accuracy: 0.7142857142857143\n"
     ]
    },
    {
     "name": "stderr",
     "output_type": "stream",
     "text": [
      "100%|█████████████████████████████████████████| 20/20 [00:00<00:00, 4256.23it/s]\n",
      "100%|█████████████████████████████████████████| 39/39 [00:00<00:00, 2928.35it/s]\n"
     ]
    },
    {
     "name": "stdout",
     "output_type": "stream",
     "text": [
      "Epoch: 31, Loss: 0.28720049407237613, train_accuracy: 0.9526143790849673, test_accuracy: 0.7012987012987013\n"
     ]
    },
    {
     "name": "stderr",
     "output_type": "stream",
     "text": [
      "100%|█████████████████████████████████████████| 20/20 [00:00<00:00, 3713.25it/s]\n",
      "100%|█████████████████████████████████████████| 39/39 [00:00<00:00, 3393.94it/s]\n"
     ]
    },
    {
     "name": "stdout",
     "output_type": "stream",
     "text": [
      "Epoch: 32, Loss: 0.26563944476537216, train_accuracy: 0.9558823529411765, test_accuracy: 0.7077922077922078\n"
     ]
    },
    {
     "name": "stderr",
     "output_type": "stream",
     "text": [
      "100%|█████████████████████████████████████████| 20/20 [00:00<00:00, 4090.01it/s]\n",
      "100%|█████████████████████████████████████████| 39/39 [00:00<00:00, 2531.66it/s]\n"
     ]
    },
    {
     "name": "stdout",
     "output_type": "stream",
     "text": [
      "Epoch: 33, Loss: 0.23235368900574171, train_accuracy: 0.9591503267973857, test_accuracy: 0.6948051948051948\n"
     ]
    },
    {
     "name": "stderr",
     "output_type": "stream",
     "text": [
      "100%|█████████████████████████████████████████| 20/20 [00:00<00:00, 4213.05it/s]\n",
      "100%|█████████████████████████████████████████| 39/39 [00:00<00:00, 3420.99it/s]\n"
     ]
    },
    {
     "name": "stdout",
     "output_type": "stream",
     "text": [
      "Epoch: 34, Loss: 0.31587928743698657, train_accuracy: 0.9575163398692811, test_accuracy: 0.7207792207792207\n"
     ]
    },
    {
     "name": "stderr",
     "output_type": "stream",
     "text": [
      "100%|█████████████████████████████████████████| 20/20 [00:00<00:00, 3848.34it/s]\n",
      "100%|█████████████████████████████████████████| 39/39 [00:00<00:00, 2864.01it/s]\n"
     ]
    },
    {
     "name": "stdout",
     "output_type": "stream",
     "text": [
      "Epoch: 35, Loss: 0.24906004078160876, train_accuracy: 0.9591503267973857, test_accuracy: 0.7207792207792207\n"
     ]
    },
    {
     "name": "stderr",
     "output_type": "stream",
     "text": [
      "100%|█████████████████████████████████████████| 20/20 [00:00<00:00, 3826.92it/s]\n",
      "100%|█████████████████████████████████████████| 39/39 [00:00<00:00, 3123.98it/s]\n"
     ]
    },
    {
     "name": "stdout",
     "output_type": "stream",
     "text": [
      "Epoch: 36, Loss: 0.2230872023755159, train_accuracy: 0.9640522875816994, test_accuracy: 0.7142857142857143\n"
     ]
    },
    {
     "name": "stderr",
     "output_type": "stream",
     "text": [
      "100%|█████████████████████████████████████████| 20/20 [00:00<00:00, 3771.52it/s]\n",
      "100%|█████████████████████████████████████████| 39/39 [00:00<00:00, 3172.51it/s]\n"
     ]
    },
    {
     "name": "stdout",
     "output_type": "stream",
     "text": [
      "Epoch: 37, Loss: 0.23130022581571189, train_accuracy: 0.9656862745098039, test_accuracy: 0.7012987012987013\n"
     ]
    },
    {
     "name": "stderr",
     "output_type": "stream",
     "text": [
      "100%|█████████████████████████████████████████| 20/20 [00:00<00:00, 4046.41it/s]\n",
      "100%|█████████████████████████████████████████| 39/39 [00:00<00:00, 2709.23it/s]\n"
     ]
    },
    {
     "name": "stdout",
     "output_type": "stream",
     "text": [
      "Epoch: 38, Loss: 0.22242351096027937, train_accuracy: 0.9689542483660131, test_accuracy: 0.7012987012987013\n"
     ]
    },
    {
     "name": "stderr",
     "output_type": "stream",
     "text": [
      "100%|█████████████████████████████████████████| 20/20 [00:00<00:00, 2795.92it/s]\n",
      "100%|█████████████████████████████████████████| 39/39 [00:00<00:00, 3012.76it/s]\n"
     ]
    },
    {
     "name": "stdout",
     "output_type": "stream",
     "text": [
      "Epoch: 39, Loss: 0.22928522680050287, train_accuracy: 0.9722222222222222, test_accuracy: 0.7207792207792207\n"
     ]
    },
    {
     "name": "stderr",
     "output_type": "stream",
     "text": [
      "100%|█████████████████████████████████████████| 20/20 [00:00<00:00, 3650.24it/s]\n",
      "100%|█████████████████████████████████████████| 39/39 [00:00<00:00, 2806.61it/s]\n"
     ]
    },
    {
     "name": "stdout",
     "output_type": "stream",
     "text": [
      "Epoch: 40, Loss: 0.19412836766777894, train_accuracy: 0.9722222222222222, test_accuracy: 0.6883116883116883\n"
     ]
    },
    {
     "name": "stderr",
     "output_type": "stream",
     "text": [
      "100%|█████████████████████████████████████████| 20/20 [00:00<00:00, 3531.60it/s]\n",
      "100%|█████████████████████████████████████████| 39/39 [00:00<00:00, 3322.25it/s]\n"
     ]
    },
    {
     "name": "stdout",
     "output_type": "stream",
     "text": [
      "Epoch: 41, Loss: 0.218386354832313, train_accuracy: 0.9722222222222222, test_accuracy: 0.6948051948051948\n"
     ]
    },
    {
     "name": "stderr",
     "output_type": "stream",
     "text": [
      "100%|█████████████████████████████████████████| 20/20 [00:00<00:00, 3209.72it/s]\n",
      "100%|█████████████████████████████████████████| 39/39 [00:00<00:00, 2583.96it/s]\n"
     ]
    },
    {
     "name": "stdout",
     "output_type": "stream",
     "text": [
      "Epoch: 42, Loss: 0.21071232394434702, train_accuracy: 0.9722222222222222, test_accuracy: 0.7077922077922078\n"
     ]
    },
    {
     "name": "stderr",
     "output_type": "stream",
     "text": [
      "100%|█████████████████████████████████████████| 20/20 [00:00<00:00, 3591.94it/s]\n",
      "100%|█████████████████████████████████████████| 39/39 [00:00<00:00, 2722.71it/s]\n"
     ]
    },
    {
     "name": "stdout",
     "output_type": "stream",
     "text": [
      "Epoch: 43, Loss: 0.21517938241744652, train_accuracy: 0.9738562091503268, test_accuracy: 0.6883116883116883\n"
     ]
    },
    {
     "name": "stderr",
     "output_type": "stream",
     "text": [
      "100%|█████████████████████████████████████████| 20/20 [00:00<00:00, 3111.50it/s]\n",
      "100%|█████████████████████████████████████████| 39/39 [00:00<00:00, 2932.50it/s]\n"
     ]
    },
    {
     "name": "stdout",
     "output_type": "stream",
     "text": [
      "Epoch: 44, Loss: 0.2549512310861013, train_accuracy: 0.9771241830065359, test_accuracy: 0.6883116883116883\n"
     ]
    },
    {
     "name": "stderr",
     "output_type": "stream",
     "text": [
      "100%|█████████████████████████████████████████| 20/20 [00:00<00:00, 3156.58it/s]\n",
      "100%|█████████████████████████████████████████| 39/39 [00:00<00:00, 3015.32it/s]\n"
     ]
    },
    {
     "name": "stdout",
     "output_type": "stream",
     "text": [
      "Epoch: 45, Loss: 0.21447657144222504, train_accuracy: 0.9820261437908496, test_accuracy: 0.7077922077922078\n"
     ]
    },
    {
     "name": "stderr",
     "output_type": "stream",
     "text": [
      "100%|█████████████████████████████████████████| 20/20 [00:00<00:00, 4020.04it/s]\n",
      "100%|█████████████████████████████████████████| 39/39 [00:00<00:00, 2589.32it/s]\n"
     ]
    },
    {
     "name": "stdout",
     "output_type": "stream",
     "text": [
      "Epoch: 46, Loss: 0.24400051549459115, train_accuracy: 0.9836601307189542, test_accuracy: 0.7012987012987013\n"
     ]
    },
    {
     "name": "stderr",
     "output_type": "stream",
     "text": [
      "100%|█████████████████████████████████████████| 20/20 [00:00<00:00, 4139.86it/s]\n",
      "100%|█████████████████████████████████████████| 39/39 [00:00<00:00, 3262.81it/s]\n"
     ]
    },
    {
     "name": "stdout",
     "output_type": "stream",
     "text": [
      "Epoch: 47, Loss: 0.1989612672955562, train_accuracy: 0.9836601307189542, test_accuracy: 0.6948051948051948\n"
     ]
    },
    {
     "name": "stderr",
     "output_type": "stream",
     "text": [
      "100%|█████████████████████████████████████████| 20/20 [00:00<00:00, 2006.17it/s]\n",
      "100%|█████████████████████████████████████████| 39/39 [00:00<00:00, 2629.62it/s]\n"
     ]
    },
    {
     "name": "stdout",
     "output_type": "stream",
     "text": [
      "Epoch: 48, Loss: 0.23293472635440338, train_accuracy: 0.9820261437908496, test_accuracy: 0.7142857142857143\n"
     ]
    },
    {
     "name": "stderr",
     "output_type": "stream",
     "text": [
      "100%|█████████████████████████████████████████| 20/20 [00:00<00:00, 3007.53it/s]\n",
      "100%|█████████████████████████████████████████| 39/39 [00:00<00:00, 2879.54it/s]\n"
     ]
    },
    {
     "name": "stdout",
     "output_type": "stream",
     "text": [
      "Epoch: 49, Loss: 0.2396039004700306, train_accuracy: 0.9852941176470589, test_accuracy: 0.6818181818181818\n"
     ]
    },
    {
     "name": "stderr",
     "output_type": "stream",
     "text": [
      "100%|█████████████████████████████████████████| 20/20 [00:00<00:00, 1962.11it/s]\n",
      "100%|█████████████████████████████████████████| 39/39 [00:00<00:00, 1641.28it/s]\n"
     ]
    },
    {
     "name": "stdout",
     "output_type": "stream",
     "text": [
      "Epoch: 50, Loss: 0.1857155982303457, train_accuracy: 0.9820261437908496, test_accuracy: 0.6948051948051948\n"
     ]
    },
    {
     "name": "stderr",
     "output_type": "stream",
     "text": [
      "100%|█████████████████████████████████████████| 20/20 [00:00<00:00, 3070.84it/s]\n",
      "100%|█████████████████████████████████████████| 39/39 [00:00<00:00, 3154.04it/s]\n"
     ]
    },
    {
     "name": "stdout",
     "output_type": "stream",
     "text": [
      "Epoch: 51, Loss: 0.1862174579157279, train_accuracy: 0.9836601307189542, test_accuracy: 0.7012987012987013\n"
     ]
    },
    {
     "name": "stderr",
     "output_type": "stream",
     "text": [
      "100%|█████████████████████████████████████████| 20/20 [00:00<00:00, 3328.94it/s]\n",
      "100%|█████████████████████████████████████████| 39/39 [00:00<00:00, 2774.43it/s]\n"
     ]
    },
    {
     "name": "stdout",
     "output_type": "stream",
     "text": [
      "Epoch: 52, Loss: 0.18797480162137595, train_accuracy: 0.9869281045751634, test_accuracy: 0.6688311688311688\n"
     ]
    },
    {
     "name": "stderr",
     "output_type": "stream",
     "text": [
      "100%|█████████████████████████████████████████| 20/20 [00:00<00:00, 3158.00it/s]\n",
      "100%|█████████████████████████████████████████| 39/39 [00:00<00:00, 2372.41it/s]\n"
     ]
    },
    {
     "name": "stdout",
     "output_type": "stream",
     "text": [
      "Epoch: 53, Loss: 0.19889891711183083, train_accuracy: 0.988562091503268, test_accuracy: 0.6623376623376623\n"
     ]
    },
    {
     "name": "stderr",
     "output_type": "stream",
     "text": [
      "100%|█████████████████████████████████████████| 20/20 [00:00<00:00, 2069.06it/s]\n",
      "100%|█████████████████████████████████████████| 39/39 [00:00<00:00, 1607.85it/s]\n"
     ]
    },
    {
     "name": "stdout",
     "output_type": "stream",
     "text": [
      "Epoch: 54, Loss: 0.20149538804514286, train_accuracy: 0.9901960784313726, test_accuracy: 0.6623376623376623\n"
     ]
    },
    {
     "name": "stderr",
     "output_type": "stream",
     "text": [
      "100%|█████████████████████████████████████████| 20/20 [00:00<00:00, 2784.79it/s]\n",
      "100%|█████████████████████████████████████████| 39/39 [00:00<00:00, 3484.09it/s]\n"
     ]
    },
    {
     "name": "stdout",
     "output_type": "stream",
     "text": [
      "Epoch: 55, Loss: 0.16414633065160628, train_accuracy: 0.9901960784313726, test_accuracy: 0.6623376623376623\n"
     ]
    },
    {
     "name": "stderr",
     "output_type": "stream",
     "text": [
      "100%|█████████████████████████████████████████| 20/20 [00:00<00:00, 3273.73it/s]\n",
      "100%|█████████████████████████████████████████| 39/39 [00:00<00:00, 2508.36it/s]\n"
     ]
    },
    {
     "name": "stdout",
     "output_type": "stream",
     "text": [
      "Epoch: 56, Loss: 0.18499423214831415, train_accuracy: 0.9901960784313726, test_accuracy: 0.6623376623376623\n"
     ]
    },
    {
     "name": "stderr",
     "output_type": "stream",
     "text": [
      "100%|█████████████████████████████████████████| 20/20 [00:00<00:00, 3857.19it/s]\n",
      "100%|█████████████████████████████████████████| 39/39 [00:00<00:00, 3476.61it/s]\n"
     ]
    },
    {
     "name": "stdout",
     "output_type": "stream",
     "text": [
      "Epoch: 57, Loss: 0.18818891459168532, train_accuracy: 0.988562091503268, test_accuracy: 0.6623376623376623\n"
     ]
    },
    {
     "name": "stderr",
     "output_type": "stream",
     "text": [
      "100%|█████████████████████████████████████████| 20/20 [00:00<00:00, 3902.40it/s]\n",
      "100%|█████████████████████████████████████████| 39/39 [00:00<00:00, 3183.63it/s]\n"
     ]
    },
    {
     "name": "stdout",
     "output_type": "stream",
     "text": [
      "Epoch: 58, Loss: 0.19854609706462958, train_accuracy: 0.9852941176470589, test_accuracy: 0.6688311688311688\n"
     ]
    },
    {
     "name": "stderr",
     "output_type": "stream",
     "text": [
      "100%|█████████████████████████████████████████| 20/20 [00:00<00:00, 4147.64it/s]\n",
      "100%|█████████████████████████████████████████| 39/39 [00:00<00:00, 2582.94it/s]\n"
     ]
    },
    {
     "name": "stdout",
     "output_type": "stream",
     "text": [
      "Epoch: 59, Loss: 0.18116749092363393, train_accuracy: 0.9852941176470589, test_accuracy: 0.6688311688311688\n"
     ]
    },
    {
     "name": "stderr",
     "output_type": "stream",
     "text": [
      "100%|█████████████████████████████████████████| 20/20 [00:00<00:00, 2986.86it/s]\n",
      "100%|█████████████████████████████████████████| 39/39 [00:00<00:00, 3599.07it/s]\n"
     ]
    },
    {
     "name": "stdout",
     "output_type": "stream",
     "text": [
      "Epoch: 60, Loss: 0.16852239864424634, train_accuracy: 0.9934640522875817, test_accuracy: 0.6753246753246753\n"
     ]
    },
    {
     "name": "stderr",
     "output_type": "stream",
     "text": [
      "100%|█████████████████████████████████████████| 20/20 [00:00<00:00, 3835.84it/s]\n",
      "100%|█████████████████████████████████████████| 39/39 [00:00<00:00, 3108.01it/s]\n"
     ]
    },
    {
     "name": "stdout",
     "output_type": "stream",
     "text": [
      "Epoch: 61, Loss: 0.18012176377651018, train_accuracy: 0.9934640522875817, test_accuracy: 0.6753246753246753\n"
     ]
    },
    {
     "name": "stderr",
     "output_type": "stream",
     "text": [
      "100%|█████████████████████████████████████████| 20/20 [00:00<00:00, 4529.00it/s]\n",
      "100%|█████████████████████████████████████████| 39/39 [00:00<00:00, 2632.11it/s]\n"
     ]
    },
    {
     "name": "stdout",
     "output_type": "stream",
     "text": [
      "Epoch: 62, Loss: 0.16964213122637609, train_accuracy: 0.9934640522875817, test_accuracy: 0.6688311688311688\n"
     ]
    },
    {
     "name": "stderr",
     "output_type": "stream",
     "text": [
      "100%|█████████████████████████████████████████| 20/20 [00:00<00:00, 4038.62it/s]\n",
      "100%|█████████████████████████████████████████| 39/39 [00:00<00:00, 2883.29it/s]\n"
     ]
    },
    {
     "name": "stdout",
     "output_type": "stream",
     "text": [
      "Epoch: 63, Loss: 0.18385326069517013, train_accuracy: 0.9934640522875817, test_accuracy: 0.6623376623376623\n"
     ]
    },
    {
     "name": "stderr",
     "output_type": "stream",
     "text": [
      "100%|█████████████████████████████████████████| 20/20 [00:00<00:00, 3875.18it/s]\n",
      "100%|█████████████████████████████████████████| 39/39 [00:00<00:00, 3933.11it/s]\n"
     ]
    },
    {
     "name": "stdout",
     "output_type": "stream",
     "text": [
      "Epoch: 64, Loss: 0.16493034159812409, train_accuracy: 0.988562091503268, test_accuracy: 0.6493506493506493\n"
     ]
    },
    {
     "name": "stderr",
     "output_type": "stream",
     "text": [
      "100%|█████████████████████████████████████████| 20/20 [00:00<00:00, 4076.69it/s]\n",
      "100%|█████████████████████████████████████████| 39/39 [00:00<00:00, 3573.44it/s]\n"
     ]
    },
    {
     "name": "stdout",
     "output_type": "stream",
     "text": [
      "Epoch: 65, Loss: 0.17784561804280832, train_accuracy: 0.9869281045751634, test_accuracy: 0.6753246753246753\n"
     ]
    },
    {
     "name": "stderr",
     "output_type": "stream",
     "text": [
      "100%|█████████████████████████████████████████| 20/20 [00:00<00:00, 4257.96it/s]\n",
      "100%|█████████████████████████████████████████| 39/39 [00:00<00:00, 3329.63it/s]\n"
     ]
    },
    {
     "name": "stdout",
     "output_type": "stream",
     "text": [
      "Epoch: 66, Loss: 0.1654124744863321, train_accuracy: 0.9901960784313726, test_accuracy: 0.6623376623376623\n"
     ]
    },
    {
     "name": "stderr",
     "output_type": "stream",
     "text": [
      "100%|█████████████████████████████████████████| 20/20 [00:00<00:00, 3505.62it/s]\n",
      "100%|█████████████████████████████████████████| 39/39 [00:00<00:00, 3542.26it/s]\n"
     ]
    },
    {
     "name": "stdout",
     "output_type": "stream",
     "text": [
      "Epoch: 67, Loss: 0.20801058946511683, train_accuracy: 0.9901960784313726, test_accuracy: 0.6753246753246753\n"
     ]
    },
    {
     "name": "stderr",
     "output_type": "stream",
     "text": [
      "100%|█████████████████████████████████████████| 20/20 [00:00<00:00, 4389.87it/s]\n",
      "100%|█████████████████████████████████████████| 39/39 [00:00<00:00, 3563.55it/s]\n"
     ]
    },
    {
     "name": "stdout",
     "output_type": "stream",
     "text": [
      "Epoch: 68, Loss: 0.15330771194436613, train_accuracy: 0.9918300653594772, test_accuracy: 0.6688311688311688\n"
     ]
    },
    {
     "name": "stderr",
     "output_type": "stream",
     "text": [
      "100%|█████████████████████████████████████████| 20/20 [00:00<00:00, 3846.93it/s]\n",
      "100%|█████████████████████████████████████████| 39/39 [00:00<00:00, 3824.68it/s]\n"
     ]
    },
    {
     "name": "stdout",
     "output_type": "stream",
     "text": [
      "Epoch: 69, Loss: 0.166730677287351, train_accuracy: 0.9918300653594772, test_accuracy: 0.6753246753246753\n"
     ]
    },
    {
     "name": "stderr",
     "output_type": "stream",
     "text": [
      "100%|█████████████████████████████████████████| 20/20 [00:00<00:00, 4181.34it/s]\n",
      "100%|█████████████████████████████████████████| 39/39 [00:00<00:00, 3671.53it/s]\n"
     ]
    },
    {
     "name": "stdout",
     "output_type": "stream",
     "text": [
      "Epoch: 70, Loss: 0.18559909019714746, train_accuracy: 0.9918300653594772, test_accuracy: 0.6818181818181818\n"
     ]
    },
    {
     "name": "stderr",
     "output_type": "stream",
     "text": [
      "100%|█████████████████████████████████████████| 20/20 [00:00<00:00, 4301.19it/s]\n",
      "100%|█████████████████████████████████████████| 39/39 [00:00<00:00, 3055.70it/s]\n"
     ]
    },
    {
     "name": "stdout",
     "output_type": "stream",
     "text": [
      "Epoch: 71, Loss: 0.15664253142686227, train_accuracy: 0.9901960784313726, test_accuracy: 0.6948051948051948\n"
     ]
    },
    {
     "name": "stderr",
     "output_type": "stream",
     "text": [
      "100%|█████████████████████████████████████████| 20/20 [00:00<00:00, 2211.60it/s]\n",
      "100%|█████████████████████████████████████████| 39/39 [00:00<00:00, 2979.67it/s]\n"
     ]
    },
    {
     "name": "stdout",
     "output_type": "stream",
     "text": [
      "Epoch: 72, Loss: 0.17624848874178356, train_accuracy: 0.9901960784313726, test_accuracy: 0.7012987012987013\n"
     ]
    },
    {
     "name": "stderr",
     "output_type": "stream",
     "text": [
      "100%|█████████████████████████████████████████| 20/20 [00:00<00:00, 4439.36it/s]\n",
      "100%|█████████████████████████████████████████| 39/39 [00:00<00:00, 3075.64it/s]\n"
     ]
    },
    {
     "name": "stdout",
     "output_type": "stream",
     "text": [
      "Epoch: 73, Loss: 0.1787996675628118, train_accuracy: 0.9918300653594772, test_accuracy: 0.6753246753246753\n"
     ]
    },
    {
     "name": "stderr",
     "output_type": "stream",
     "text": [
      "100%|█████████████████████████████████████████| 20/20 [00:00<00:00, 4144.98it/s]\n",
      "100%|█████████████████████████████████████████| 39/39 [00:00<00:00, 3058.56it/s]\n"
     ]
    },
    {
     "name": "stdout",
     "output_type": "stream",
     "text": [
      "Epoch: 74, Loss: 0.17497466714718404, train_accuracy: 0.9918300653594772, test_accuracy: 0.6688311688311688\n"
     ]
    },
    {
     "name": "stderr",
     "output_type": "stream",
     "text": [
      "100%|█████████████████████████████████████████| 20/20 [00:00<00:00, 4118.52it/s]\n",
      "100%|█████████████████████████████████████████| 39/39 [00:00<00:00, 2949.69it/s]\n"
     ]
    },
    {
     "name": "stdout",
     "output_type": "stream",
     "text": [
      "Epoch: 75, Loss: 0.16712629742538318, train_accuracy: 0.9918300653594772, test_accuracy: 0.6623376623376623\n"
     ]
    },
    {
     "name": "stderr",
     "output_type": "stream",
     "text": [
      "100%|█████████████████████████████████████████| 20/20 [00:00<00:00, 4229.41it/s]\n",
      "100%|█████████████████████████████████████████| 39/39 [00:00<00:00, 3334.10it/s]\n"
     ]
    },
    {
     "name": "stdout",
     "output_type": "stream",
     "text": [
      "Epoch: 76, Loss: 0.1370063172892118, train_accuracy: 0.9918300653594772, test_accuracy: 0.6753246753246753\n"
     ]
    },
    {
     "name": "stderr",
     "output_type": "stream",
     "text": [
      "100%|█████████████████████████████████████████| 20/20 [00:00<00:00, 3870.71it/s]\n",
      "100%|█████████████████████████████████████████| 39/39 [00:00<00:00, 3804.14it/s]\n"
     ]
    },
    {
     "name": "stdout",
     "output_type": "stream",
     "text": [
      "Epoch: 77, Loss: 0.1620916971602501, train_accuracy: 0.9901960784313726, test_accuracy: 0.6753246753246753\n"
     ]
    },
    {
     "name": "stderr",
     "output_type": "stream",
     "text": [
      "100%|█████████████████████████████████████████| 20/20 [00:00<00:00, 3739.91it/s]\n",
      "100%|█████████████████████████████████████████| 39/39 [00:00<00:00, 3398.67it/s]\n"
     ]
    },
    {
     "name": "stdout",
     "output_type": "stream",
     "text": [
      "Epoch: 78, Loss: 0.13193431020511362, train_accuracy: 0.9901960784313726, test_accuracy: 0.6948051948051948\n"
     ]
    },
    {
     "name": "stderr",
     "output_type": "stream",
     "text": [
      "100%|█████████████████████████████████████████| 20/20 [00:00<00:00, 3364.73it/s]\n",
      "100%|█████████████████████████████████████████| 39/39 [00:00<00:00, 2919.21it/s]\n"
     ]
    },
    {
     "name": "stdout",
     "output_type": "stream",
     "text": [
      "Epoch: 79, Loss: 0.16398881509518012, train_accuracy: 0.9934640522875817, test_accuracy: 0.6623376623376623\n"
     ]
    },
    {
     "name": "stderr",
     "output_type": "stream",
     "text": [
      "100%|█████████████████████████████████████████| 20/20 [00:00<00:00, 4270.75it/s]\n",
      "100%|█████████████████████████████████████████| 39/39 [00:00<00:00, 3457.06it/s]\n"
     ]
    },
    {
     "name": "stdout",
     "output_type": "stream",
     "text": [
      "Epoch: 80, Loss: 0.15022229480867585, train_accuracy: 0.9918300653594772, test_accuracy: 0.6883116883116883\n"
     ]
    },
    {
     "name": "stderr",
     "output_type": "stream",
     "text": [
      "100%|█████████████████████████████████████████| 20/20 [00:00<00:00, 4418.78it/s]\n",
      "100%|█████████████████████████████████████████| 39/39 [00:00<00:00, 3462.70it/s]\n"
     ]
    },
    {
     "name": "stdout",
     "output_type": "stream",
     "text": [
      "Epoch: 81, Loss: 0.14127896234202078, train_accuracy: 0.9918300653594772, test_accuracy: 0.6883116883116883\n"
     ]
    },
    {
     "name": "stderr",
     "output_type": "stream",
     "text": [
      "100%|█████████████████████████████████████████| 20/20 [00:00<00:00, 4021.19it/s]\n",
      "100%|█████████████████████████████████████████| 39/39 [00:00<00:00, 3076.16it/s]\n"
     ]
    },
    {
     "name": "stdout",
     "output_type": "stream",
     "text": [
      "Epoch: 82, Loss: 0.1486229996364086, train_accuracy: 0.988562091503268, test_accuracy: 0.6818181818181818\n"
     ]
    },
    {
     "name": "stderr",
     "output_type": "stream",
     "text": [
      "100%|█████████████████████████████████████████| 20/20 [00:00<00:00, 3462.08it/s]\n",
      "100%|█████████████████████████████████████████| 39/39 [00:00<00:00, 2390.86it/s]\n"
     ]
    },
    {
     "name": "stdout",
     "output_type": "stream",
     "text": [
      "Epoch: 83, Loss: 0.1544342240652977, train_accuracy: 0.988562091503268, test_accuracy: 0.6883116883116883\n"
     ]
    },
    {
     "name": "stderr",
     "output_type": "stream",
     "text": [
      "100%|█████████████████████████████████████████| 20/20 [00:00<00:00, 3213.78it/s]\n",
      "100%|█████████████████████████████████████████| 39/39 [00:00<00:00, 3261.97it/s]\n"
     ]
    },
    {
     "name": "stdout",
     "output_type": "stream",
     "text": [
      "Epoch: 84, Loss: 0.16005063708314246, train_accuracy: 0.9918300653594772, test_accuracy: 0.6753246753246753\n"
     ]
    },
    {
     "name": "stderr",
     "output_type": "stream",
     "text": [
      "100%|█████████████████████████████████████████| 20/20 [00:00<00:00, 2405.96it/s]\n",
      "100%|█████████████████████████████████████████| 39/39 [00:00<00:00, 2975.77it/s]\n"
     ]
    },
    {
     "name": "stdout",
     "output_type": "stream",
     "text": [
      "Epoch: 85, Loss: 0.15915050519964632, train_accuracy: 0.9901960784313726, test_accuracy: 0.6688311688311688\n"
     ]
    },
    {
     "name": "stderr",
     "output_type": "stream",
     "text": [
      "100%|█████████████████████████████████████████| 20/20 [00:00<00:00, 3697.05it/s]\n",
      "100%|█████████████████████████████████████████| 39/39 [00:00<00:00, 3335.60it/s]\n"
     ]
    },
    {
     "name": "stdout",
     "output_type": "stream",
     "text": [
      "Epoch: 86, Loss: 0.17114205786194175, train_accuracy: 0.988562091503268, test_accuracy: 0.6688311688311688\n"
     ]
    },
    {
     "name": "stderr",
     "output_type": "stream",
     "text": [
      "100%|█████████████████████████████████████████| 20/20 [00:00<00:00, 4249.76it/s]\n",
      "100%|█████████████████████████████████████████| 39/39 [00:00<00:00, 2290.36it/s]\n"
     ]
    },
    {
     "name": "stdout",
     "output_type": "stream",
     "text": [
      "Epoch: 87, Loss: 0.15362091101885128, train_accuracy: 0.9901960784313726, test_accuracy: 0.6753246753246753\n"
     ]
    },
    {
     "name": "stderr",
     "output_type": "stream",
     "text": [
      "100%|█████████████████████████████████████████| 20/20 [00:00<00:00, 3209.72it/s]\n",
      "100%|█████████████████████████████████████████| 39/39 [00:00<00:00, 3266.59it/s]\n"
     ]
    },
    {
     "name": "stdout",
     "output_type": "stream",
     "text": [
      "Epoch: 88, Loss: 0.14605781765511403, train_accuracy: 0.9918300653594772, test_accuracy: 0.6753246753246753\n"
     ]
    },
    {
     "name": "stderr",
     "output_type": "stream",
     "text": [
      "100%|█████████████████████████████████████████| 20/20 [00:00<00:00, 4078.28it/s]\n",
      "100%|█████████████████████████████████████████| 39/39 [00:00<00:00, 3199.63it/s]\n"
     ]
    },
    {
     "name": "stdout",
     "output_type": "stream",
     "text": [
      "Epoch: 89, Loss: 0.15535115173611885, train_accuracy: 0.9950980392156863, test_accuracy: 0.6688311688311688\n"
     ]
    },
    {
     "name": "stderr",
     "output_type": "stream",
     "text": [
      "100%|█████████████████████████████████████████| 20/20 [00:00<00:00, 4234.53it/s]\n",
      "100%|█████████████████████████████████████████| 39/39 [00:00<00:00, 3389.86it/s]\n"
     ]
    },
    {
     "name": "stdout",
     "output_type": "stream",
     "text": [
      "Epoch: 90, Loss: 0.14974367284239867, train_accuracy: 0.9950980392156863, test_accuracy: 0.6623376623376623\n"
     ]
    },
    {
     "name": "stderr",
     "output_type": "stream",
     "text": [
      "100%|█████████████████████████████████████████| 20/20 [00:00<00:00, 3199.93it/s]\n",
      "100%|█████████████████████████████████████████| 39/39 [00:00<00:00, 3492.42it/s]\n"
     ]
    },
    {
     "name": "stdout",
     "output_type": "stream",
     "text": [
      "Epoch: 91, Loss: 0.13890770077705347, train_accuracy: 0.9950980392156863, test_accuracy: 0.6623376623376623\n"
     ]
    },
    {
     "name": "stderr",
     "output_type": "stream",
     "text": [
      "100%|█████████████████████████████████████████| 20/20 [00:00<00:00, 4336.77it/s]\n",
      "100%|█████████████████████████████████████████| 39/39 [00:00<00:00, 3671.95it/s]\n"
     ]
    },
    {
     "name": "stdout",
     "output_type": "stream",
     "text": [
      "Epoch: 92, Loss: 0.13576160891888997, train_accuracy: 0.9950980392156863, test_accuracy: 0.6623376623376623\n"
     ]
    },
    {
     "name": "stderr",
     "output_type": "stream",
     "text": [
      "100%|█████████████████████████████████████████| 20/20 [00:00<00:00, 3245.61it/s]\n",
      "100%|█████████████████████████████████████████| 39/39 [00:00<00:00, 3238.65it/s]\n"
     ]
    },
    {
     "name": "stdout",
     "output_type": "stream",
     "text": [
      "Epoch: 93, Loss: 0.16186661819213044, train_accuracy: 0.9950980392156863, test_accuracy: 0.6753246753246753\n"
     ]
    },
    {
     "name": "stderr",
     "output_type": "stream",
     "text": [
      "100%|█████████████████████████████████████████| 20/20 [00:00<00:00, 4110.25it/s]\n",
      "100%|█████████████████████████████████████████| 39/39 [00:00<00:00, 3252.69it/s]\n"
     ]
    },
    {
     "name": "stdout",
     "output_type": "stream",
     "text": [
      "Epoch: 94, Loss: 0.1480863111971233, train_accuracy: 0.9950980392156863, test_accuracy: 0.6883116883116883\n"
     ]
    },
    {
     "name": "stderr",
     "output_type": "stream",
     "text": [
      "100%|█████████████████████████████████████████| 20/20 [00:00<00:00, 3860.38it/s]\n",
      "100%|█████████████████████████████████████████| 39/39 [00:00<00:00, 3287.01it/s]\n"
     ]
    },
    {
     "name": "stdout",
     "output_type": "stream",
     "text": [
      "Epoch: 95, Loss: 0.146128282094231, train_accuracy: 0.9950980392156863, test_accuracy: 0.6753246753246753\n"
     ]
    },
    {
     "name": "stderr",
     "output_type": "stream",
     "text": [
      "100%|█████████████████████████████████████████| 20/20 [00:00<00:00, 3052.51it/s]\n",
      "100%|█████████████████████████████████████████| 39/39 [00:00<00:00, 3190.39it/s]\n"
     ]
    },
    {
     "name": "stdout",
     "output_type": "stream",
     "text": [
      "Epoch: 96, Loss: 0.16335062068910935, train_accuracy: 0.9934640522875817, test_accuracy: 0.6753246753246753\n"
     ]
    },
    {
     "name": "stderr",
     "output_type": "stream",
     "text": [
      "100%|█████████████████████████████████████████| 20/20 [00:00<00:00, 4095.00it/s]\n",
      "100%|█████████████████████████████████████████| 39/39 [00:00<00:00, 2865.51it/s]\n"
     ]
    },
    {
     "name": "stdout",
     "output_type": "stream",
     "text": [
      "Epoch: 97, Loss: 0.1284003639832521, train_accuracy: 0.9950980392156863, test_accuracy: 0.6818181818181818\n"
     ]
    },
    {
     "name": "stderr",
     "output_type": "stream",
     "text": [
      "100%|█████████████████████████████████████████| 20/20 [00:00<00:00, 3095.08it/s]\n",
      "100%|█████████████████████████████████████████| 39/39 [00:00<00:00, 3070.85it/s]\n"
     ]
    },
    {
     "name": "stdout",
     "output_type": "stream",
     "text": [
      "Epoch: 98, Loss: 0.14386188737355554, train_accuracy: 0.9934640522875817, test_accuracy: 0.6688311688311688\n"
     ]
    },
    {
     "name": "stderr",
     "output_type": "stream",
     "text": [
      "100%|█████████████████████████████████████████| 20/20 [00:00<00:00, 3721.65it/s]\n",
      "100%|█████████████████████████████████████████| 39/39 [00:00<00:00, 3599.47it/s]"
     ]
    },
    {
     "name": "stdout",
     "output_type": "stream",
     "text": [
      "Epoch: 99, Loss: 0.16815213440401214, train_accuracy: 0.9918300653594772, test_accuracy: 0.6883116883116883\n"
     ]
    },
    {
     "name": "stderr",
     "output_type": "stream",
     "text": [
      "\n"
     ]
    }
   ],
   "source": [
    "DEVICE = torch.device(\"cuda\" if torch.cuda.is_available() else \"cpu\")\n",
    "LOAD_MODEL = False\n",
    "learning_rate = 0.009\n",
    "epochs = 100\n",
    "\n",
    "model = NeuralNetwork(in_features=X_train.shape[1]).to(DEVICE)\n",
    "bce = nn.BCEWithLogitsLoss()\n",
    "optimizer = optim.Adam(model.parameters(), lr=learning_rate)\n",
    "\n",
    "if LOAD_MODEL: \n",
    "    load_checkpoint(f\"model.pth.tar\", model, optimizer)\n",
    "\n",
    "losses = []\n",
    "acc = -float(\"inf\")\n",
    "for epoch in range(epochs):\n",
    "    loss = train(train_data_loader, model, bce, optimizer, epoch)\n",
    "    test_accuracy = evaluate(test_data_loader, model)\n",
    "    train_accuracy = evaluate(train_data_loader, model)\n",
    "\n",
    "    if test_accuracy > acc:\n",
    "        save_checkpoint(model, optimizer, filename=f\"model.pth.tar\")\n",
    "        acc = test_accuracy\n",
    "    print(f\"Epoch: {epoch}, Loss: {loss}, train_accuracy: {train_accuracy}, test_accuracy: {test_accuracy}\")\n",
    "    losses.append(loss)"
   ]
  },
  {
   "cell_type": "code",
   "execution_count": 20,
   "metadata": {
    "colab": {
     "base_uri": "https://localhost:8080/",
     "height": 286
    },
    "id": "vyvlk93f85Ee",
    "outputId": "bb7b46ba-baea-4812-b4b4-0087a2df31a4"
   },
   "outputs": [
    {
     "data": {
      "text/plain": [
       "[<matplotlib.lines.Line2D at 0x7fe8b57d12b0>]"
      ]
     },
     "execution_count": 20,
     "metadata": {},
     "output_type": "execute_result"
    },
    {
     "data": {
      "image/png": "[encoded data removed]",
      "text/plain": [
       "<Figure size 640x480 with 1 Axes>"
      ]
     },
     "metadata": {},
     "output_type": "display_data"
    }
   ],
   "source": [
    "plt.plot(losses)"
   ]
  },
  {
   "cell_type": "code",
   "execution_count": 21,
   "metadata": {
    "colab": {
     "base_uri": "https://localhost:8080/"
    },
    "id": "c4PAkGBpE5jl",
    "outputId": "afc5be4b-a63b-49c8-f15a-ac8745707d22"
   },
   "outputs": [
    {
     "name": "stdout",
     "output_type": "stream",
     "text": [
      "accuracy is:  0.7207792207792207\n"
     ]
    }
   ],
   "source": [
    "print(\"accuracy is: \", acc)"
   ]
  },
  {
   "cell_type": "code",
   "execution_count": 22,
   "metadata": {
    "id": "2ZWe5VokmiA1"
   },
   "outputs": [],
   "source": [
    "def predict(test_data_loader, model):\n",
    "    model.eval()\n",
    "    predictions = []\n",
    "    targets = []\n",
    "\n",
    "    for X, y in tqdm(test_data_loader):\n",
    "        X = X.to(device=DEVICE)\n",
    "        y = y.to(DEVICE)\n",
    "\n",
    "        with torch.no_grad():\n",
    "            outputs = model(X)\n",
    "\n",
    "        predictions.append(torch.sigmoid(outputs).detach().cpu())\n",
    "        targets.append(y.detach().cpu())\n",
    "\n",
    "    predictions = torch.cat(predictions, dim=0).view(-1).numpy()\n",
    "    targets = torch.cat(targets, dim=0).view(-1).numpy()\n",
    "\n",
    "    return predictions, targets"
   ]
  },
  {
   "cell_type": "code",
   "execution_count": 23,
   "metadata": {
    "colab": {
     "base_uri": "https://localhost:8080/"
    },
    "id": "Xez0xkr4o63r",
    "outputId": "aea85b9b-5ee3-4dcb-a98d-c971260dd228"
   },
   "outputs": [
    {
     "name": "stdout",
     "output_type": "stream",
     "text": [
      "=>Loading Checkpoint...\n"
     ]
    },
    {
     "name": "stderr",
     "output_type": "stream",
     "text": [
      "100%|█████████████████████████████████████████| 20/20 [00:00<00:00, 1871.79it/s]\n",
      "100%|█████████████████████████████████████████| 20/20 [00:00<00:00, 2389.51it/s]\n"
     ]
    }
   ],
   "source": [
    "load_checkpoint(f\"model.pth.tar\", model, optimizer)\n",
    "accuracy = evaluate(test_data_loader, model)\n",
    "predictions, targets = predict(test_data_loader, model)"
   ]
  },
  {
   "cell_type": "code",
   "execution_count": 24,
   "metadata": {
    "colab": {
     "base_uri": "https://localhost:8080/",
     "height": 283
    },
    "id": "WwC5vXCBpCzH",
    "outputId": "e900ca31-3b3a-43da-f325-0736b909b0e2"
   },
   "outputs": [
    {
     "data": {
      "text/plain": [
       "<AxesSubplot:>"
      ]
     },
     "execution_count": 24,
     "metadata": {},
     "output_type": "execute_result"
    },
    {
     "data": {
      "image/png": "[encoded data removed]",
      "text/plain": [
       "<Figure size 640x480 with 2 Axes>"
      ]
     },
     "metadata": {},
     "output_type": "display_data"
    }
   ],
   "source": [
    "from sklearn.metrics import confusion_matrix\n",
    "import seaborn as sns\n",
    "cm = confusion_matrix(targets, predictions > 0.5)\n",
    "sns.heatmap(cm, annot=True)"
   ]
  },
  {
   "cell_type": "code",
   "execution_count": 25,
   "metadata": {
    "colab": {
     "base_uri": "https://localhost:8080/"
    },
    "id": "9Uk3gVVXqw6W",
    "outputId": "de506ceb-f351-4bbc-a71a-dfeb743bd85f"
   },
   "outputs": [
    {
     "name": "stdout",
     "output_type": "stream",
     "text": [
      "              precision    recall  f1-score   support\n",
      "\n",
      "         0.0       0.78      0.79      0.79       100\n",
      "         1.0       0.60      0.59      0.60        54\n",
      "\n",
      "    accuracy                           0.72       154\n",
      "   macro avg       0.69      0.69      0.69       154\n",
      "weighted avg       0.72      0.72      0.72       154\n",
      "\n"
     ]
    }
   ],
   "source": [
    "from sklearn.metrics import classification_report\n",
    "print(classification_report(targets, predictions > 0.5))"
   ]
  },
  {
   "cell_type": "code",
   "execution_count": 26,
   "metadata": {
    "colab": {
     "base_uri": "https://localhost:8080/"
    },
    "id": "Uu0eWvFbrPHk",
    "outputId": "89cf5eec-1e7f-4b22-9c12-cad45f8c6073"
   },
   "outputs": [
    {
     "name": "stdout",
     "output_type": "stream",
     "text": [
      "accuracy is:  0.7207792207792207\n"
     ]
    }
   ],
   "source": [
    "print(\"accuracy is: \", accuracy)"
   ]
  },
  {
   "cell_type": "code",
   "execution_count": 27,
   "metadata": {
    "id": "gkUhXClkrXzW"
   },
   "outputs": [],
   "source": [
    "class NeuralNetwork_new(nn.Module):\n",
    "    def __init__(self, in_features, dropout=0.5, act=\"relu\"):\n",
    "        super().__init__()\n",
    "        self.layer1 = nn.Linear(in_features, 64)\n",
    "        self.layer2 = nn.Linear(64, 32)\n",
    "        self.layer3 = nn.Linear(32, 1)\n",
    "        if act == \"relu\":\n",
    "            self.act = nn.ReLU()\n",
    "        elif act == \"sigmoid\":\n",
    "            self.act = nn.Sigmoid()\n",
    "        elif act == \"tanh\":\n",
    "            self.act = nn.Tanh()\n",
    "        self.dropout = nn.Dropout(dropout)\n",
    "\n",
    "    def forward(self, x):\n",
    "        x = self.dropout(self.act(self.layer1(x)))\n",
    "        x = self.dropout(self.act(self.layer2(x)))\n",
    "        x = self.layer3(x)\n",
    "        return x"
   ]
  },
  {
   "cell_type": "code",
   "execution_count": 28,
   "metadata": {},
   "outputs": [],
   "source": [
    "def train(train_data_loader, model, bce, optimizer, epoch):\n",
    "    model.train()\n",
    "    losses = []\n",
    "\n",
    "    train_progress_bar = tqdm(enumerate(train_data_loader), total=len(train_data_loader), leave=False)\n",
    "    for batch_idx, (X, y) in train_progress_bar:\n",
    "        X = X.to(DEVICE)\n",
    "        y = y.unsqueeze(1).to(DEVICE)\n",
    "        outputs = model(X)\n",
    "        loss = bce(outputs, y) \n",
    "        \n",
    "        optimizer.zero_grad()\n",
    "        loss.backward()\n",
    "        optimizer.step()\n",
    "\n",
    "        train_progress_bar.set_description(f\"Epoch [{epoch}/{epochs-1}]\")\n",
    "        train_progress_bar.set_postfix(train_loss=loss.item())\n",
    "        losses.append(loss.item())\n",
    "        \n",
    "    train_progress_bar.close()\n",
    "    return sum(losses) / len(losses)"
   ]
  },
  {
   "cell_type": "code",
   "execution_count": 29,
   "metadata": {},
   "outputs": [],
   "source": [
    "def evaluate(test_data_loader, model, bce):\n",
    "    model.eval()\n",
    "    losses = []\n",
    "    predictions = []\n",
    "    targets = []\n",
    "\n",
    "    for X, y in tqdm(test_data_loader):\n",
    "        X = X.to(device=DEVICE)\n",
    "        y = y.to(DEVICE)\n",
    "\n",
    "        with torch.no_grad():\n",
    "            outputs = model(X)\n",
    "            loss = bce(outputs, y.unsqueeze(1))\n",
    "            losses.append(loss.item())\n",
    "\n",
    "        predictions.append(torch.sigmoid(outputs).detach().cpu())\n",
    "        targets.append(y.detach().cpu())\n",
    "\n",
    "    predictions = torch.cat(predictions, dim=0).view(-1).numpy()\n",
    "    targets = torch.cat(targets, dim=0).view(-1).numpy()\n",
    "\n",
    "    accuracy = metrics.accuracy_score(targets, predictions > 0.5)\n",
    "    return sum(losses)/len(losses), accuracy"
   ]
  },
  {
   "cell_type": "code",
   "execution_count": 30,
   "metadata": {},
   "outputs": [],
   "source": [
    "def save_checkpoint(model, optimizer, filename=\"model.pth.tar\"):\n",
    "    print(\"=>Saving Checkpoint...\")\n",
    "    checkpoint = {\"state_dict\": model.state_dict(), \"optimizer\": optimizer.state_dict()}\n",
    "    torch.save(checkpoint, filename)\n",
    "\n",
    "def load_checkpoint(checkpoint_path, model, optimizer):\n",
    "    print(\"=>Loading Checkpoint...\")\n",
    "    checkpoint = torch.load(checkpoint_path, map_location=DEVICE)\n",
    "    model.load_state_dict(checkpoint[\"state_dict\"])\n",
    "    optimizer.load_state_dict(checkpoint[\"optimizer\"])"
   ]
  },
  {
   "cell_type": "code",
   "execution_count": 31,
   "metadata": {},
   "outputs": [],
   "source": [
    "def get_smooth(arr):\n",
    "    res = []\n",
    "    s = 0\n",
    "    for ind, ele in enumerate(arr):\n",
    "        s += ele\n",
    "        res.append(s/(ind+1))\n",
    "    return res"
   ]
  },
  {
   "cell_type": "code",
   "execution_count": 32,
   "metadata": {},
   "outputs": [],
   "source": [
    "def run(model, bce, optimizer, epochs=20):\n",
    "    train_losses, test_losses, train_accuracies, test_accuracies = [], [], [], []\n",
    "    acc = -float(\"inf\")\n",
    "    for epoch in range(epochs):\n",
    "        train_loss = train(train_data_loader, model, bce, optimizer, epoch)\n",
    "        _, train_accuracy = evaluate(train_data_loader, model, bce)\n",
    "        test_loss, test_accuracy = evaluate(test_data_loader, model, bce)\n",
    "\n",
    "        if test_accuracy > acc:\n",
    "            save_checkpoint(model, optimizer, filename=f\"model.pth.tar\")\n",
    "            acc = test_accuracy\n",
    "\n",
    "        train_losses.append(train_loss)\n",
    "        test_losses.append(test_loss)\n",
    "        train_accuracies.append(train_accuracy)\n",
    "        test_accuracies.append(test_accuracy)\n",
    "        print(f\"Epoch: {epoch}, Loss: {train_loss}, train_accuracy: {train_accuracy}, test_accuracy: {test_accuracy}\")\n",
    "    return train_losses, test_losses, train_accuracies, test_accuracies, acc"
   ]
  },
  {
   "cell_type": "code",
   "execution_count": 33,
   "metadata": {},
   "outputs": [],
   "source": [
    "%%capture\n",
    "DEVICE = torch.device(\"cuda\" if torch.cuda.is_available() else \"cpu\")\n",
    "epochs = 20\n",
    "bce = nn.BCEWithLogitsLoss()\n",
    "optimizer = optim.Adam(model.parameters(), lr=0.01, weight_decay=0.001)\n",
    "\n",
    "model1 = NeuralNetwork_new(in_features=X_train.shape[1], dropout=0.1).to(DEVICE)\n",
    "model2 = NeuralNetwork_new(in_features=X_train.shape[1], dropout=0.5).to(DEVICE)\n",
    "model3 = NeuralNetwork_new(in_features=X_train.shape[1], dropout=1).to(DEVICE)\n",
    "\n",
    "train_losses1, test_losses1, train_accuracies1, test_accuracies1, acc1 = run(model1, bce, optimizer)\n",
    "train_losses2, test_losses2, train_accuracies2, test_accuracies2, acc2 = run(model2, bce, optimizer)\n",
    "train_losses3, test_losses3, train_accuracies3, test_accuracies3, acc3 = run(model3, bce, optimizer)"
   ]
  },
  {
   "cell_type": "code",
   "execution_count": 34,
   "metadata": {},
   "outputs": [
    {
     "name": "stdout",
     "output_type": "stream",
     "text": [
      "Accuracy0.1 is:  0.6233766233766234\n"
     ]
    },
    {
     "data": {
      "image/png": "[encoded data removed]",
      "text/plain": [
       "<Figure size 640x480 with 1 Axes>"
      ]
     },
     "metadata": {},
     "output_type": "display_data"
    }
   ],
   "source": [
    "plt.plot(range(epochs), get_smooth(train_accuracies1), label='train_accuracy0.1')\n",
    "plt.plot(range(epochs), get_smooth(test_accuracies1), label='test_accuracy0.1')\n",
    "plt.legend(loc='upper right')\n",
    "print(\"Accuracy0.1 is: \", acc1)"
   ]
  },
  {
   "cell_type": "code",
   "execution_count": 35,
   "metadata": {},
   "outputs": [
    {
     "name": "stdout",
     "output_type": "stream",
     "text": [
      "Accuracy0.5 is:  0.35064935064935066\n"
     ]
    },
    {
     "data": {
      "image/png": "[encoded data removed]",
      "text/plain": [
       "<Figure size 640x480 with 1 Axes>"
      ]
     },
     "metadata": {},
     "output_type": "display_data"
    }
   ],
   "source": [
    "plt.plot(range(epochs), get_smooth(train_accuracies2), label='train_accuracy0.5')\n",
    "plt.plot(range(epochs), get_smooth(test_accuracies2), label='test_accuracy0.5')\n",
    "plt.legend(loc='upper right')\n",
    "print(\"Accuracy0.5 is: \", acc2)"
   ]
  },
  {
   "cell_type": "code",
   "execution_count": 36,
   "metadata": {},
   "outputs": [
    {
     "name": "stdout",
     "output_type": "stream",
     "text": [
      "Accuracy1 is:  0.35064935064935066\n"
     ]
    },
    {
     "data": {
      "image/png": "[encoded data removed]",
      "text/plain": [
       "<Figure size 640x480 with 1 Axes>"
      ]
     },
     "metadata": {},
     "output_type": "display_data"
    }
   ],
   "source": [
    "plt.plot(range(epochs), get_smooth(train_accuracies3), label='train_accuracy1')\n",
    "plt.plot(range(epochs), get_smooth(test_accuracies3), label='test_accuracy1')\n",
    "plt.legend(loc='upper right')\n",
    "print(\"Accuracy1 is: \", acc3)"
   ]
  },
  {
   "cell_type": "code",
   "execution_count": 37,
   "metadata": {},
   "outputs": [],
   "source": [
    "%%capture\n",
    "DEVICE = torch.device(\"cuda\" if torch.cuda.is_available() else \"cpu\")\n",
    "epochs = 20\n",
    "bce = nn.BCEWithLogitsLoss()\n",
    "optimizer = optim.Adam(model.parameters(), lr=0.01, weight_decay=0.001)\n",
    "\n",
    "model1 = NeuralNetwork_new(in_features=X_train.shape[1], act=\"relu\").to(DEVICE)\n",
    "model2 = NeuralNetwork_new(in_features=X_train.shape[1], act=\"sigmoid\").to(DEVICE)\n",
    "model3 = NeuralNetwork_new(in_features=X_train.shape[1], act=\"tanh\").to(DEVICE)\n",
    "\n",
    "train_losses1, test_losses1, train_accuracies1, test_accuracies1, acc1 = run(model1, bce, optimizer)\n",
    "train_losses2, test_losses2, train_accuracies2, test_accuracies2, acc2 = run(model2, bce, optimizer)\n",
    "train_losses3, test_losses3, train_accuracies3, test_accuracies3, acc3 = run(model3, bce, optimizer)"
   ]
  },
  {
   "cell_type": "code",
   "execution_count": 38,
   "metadata": {},
   "outputs": [
    {
     "name": "stdout",
     "output_type": "stream",
     "text": [
      "Accuracy relu is:  0.35064935064935066\n"
     ]
    },
    {
     "data": {
      "image/png": "[encoded data removed]",
      "text/plain": [
       "<Figure size 640x480 with 1 Axes>"
      ]
     },
     "metadata": {},
     "output_type": "display_data"
    }
   ],
   "source": [
    "plt.plot(range(epochs), get_smooth(train_accuracies1), label='train_accuracy relu')\n",
    "plt.plot(range(epochs), get_smooth(test_accuracies1), label='test_accuracy relu')\n",
    "plt.legend(loc='upper right')\n",
    "print(\"Accuracy relu is: \", acc1)"
   ]
  },
  {
   "cell_type": "code",
   "execution_count": 39,
   "metadata": {},
   "outputs": [
    {
     "name": "stdout",
     "output_type": "stream",
     "text": [
      "Accuracy sigmoid is:  0.35064935064935066\n"
     ]
    },
    {
     "data": {
      "image/png": "[encoded data removed]",
      "text/plain": [
       "<Figure size 640x480 with 1 Axes>"
      ]
     },
     "metadata": {},
     "output_type": "display_data"
    }
   ],
   "source": [
    "plt.plot(range(epochs), get_smooth(train_accuracies2), label='train_accuracy sigmoid')\n",
    "plt.plot(range(epochs), get_smooth(test_accuracies2), label='test_accuracy sigmoid')\n",
    "plt.legend(loc='upper right')\n",
    "print(\"Accuracy sigmoid is: \", acc2)"
   ]
  },
  {
   "cell_type": "code",
   "execution_count": 40,
   "metadata": {},
   "outputs": [
    {
     "name": "stdout",
     "output_type": "stream",
     "text": [
      "Accuracy tanh is:  0.6493506493506493\n"
     ]
    },
    {
     "data": {
      "image/png": "[encoded data removed]",
      "text/plain": [
       "<Figure size 640x480 with 1 Axes>"
      ]
     },
     "metadata": {},
     "output_type": "display_data"
    }
   ],
   "source": [
    "plt.plot(range(epochs), get_smooth(train_accuracies3), label='train_accuracy tanh')\n",
    "plt.plot(range(epochs), get_smooth(test_accuracies3), label='test_accuracy tanh')\n",
    "plt.legend(loc='upper right')\n",
    "print(\"Accuracy tanh is: \", acc3)"
   ]
  },
  {
   "cell_type": "code",
   "execution_count": 41,
   "metadata": {},
   "outputs": [],
   "source": [
    "%%capture\n",
    "DEVICE = torch.device(\"cuda\" if torch.cuda.is_available() else \"cpu\")\n",
    "epochs = 20\n",
    "bce = nn.BCEWithLogitsLoss()\n",
    "model = NeuralNetwork_new(in_features=X_train.shape[1], act=\"relu\").to(DEVICE)\n",
    "\n",
    "optimizer1 = optim.Adam(model.parameters(), lr=0.01, weight_decay=0.001)\n",
    "optimizer2 = optim.SGD(model.parameters(), lr=0.01, weight_decay=0.001)\n",
    "optimizer3 = optim.RMSprop(model.parameters(), lr=0.01, weight_decay=0.001)\n",
    "\n",
    "train_losses1, test_losses1, train_accuracies1, test_accuracies1, acc1 = run(model, bce, optimizer1)\n",
    "train_losses2, test_losses2, train_accuracies2, test_accuracies2, acc2 = run(model, bce, optimizer2)\n",
    "train_losses3, test_losses3, train_accuracies3, test_accuracies3, acc3 = run(model, bce, optimizer3)"
   ]
  },
  {
   "cell_type": "code",
   "execution_count": 42,
   "metadata": {},
   "outputs": [
    {
     "name": "stdout",
     "output_type": "stream",
     "text": [
      "Accuracy adam is:  0.7012987012987013\n"
     ]
    },
    {
     "data": {
      "image/png": "[encoded data removed]",
      "text/plain": [
       "<Figure size 640x480 with 1 Axes>"
      ]
     },
     "metadata": {},
     "output_type": "display_data"
    }
   ],
   "source": [
    "plt.plot(range(epochs), get_smooth(train_accuracies1), label='train_accuracy adam')\n",
    "plt.plot(range(epochs), get_smooth(test_accuracies1), label='test_accuracy adam')\n",
    "plt.legend(loc='upper right')\n",
    "print(\"Accuracy adam is: \", acc1)"
   ]
  },
  {
   "cell_type": "code",
   "execution_count": 43,
   "metadata": {},
   "outputs": [
    {
     "name": "stdout",
     "output_type": "stream",
     "text": [
      "Accuracy sgd is:  0.6818181818181818\n"
     ]
    },
    {
     "data": {
      "image/png": "[encoded data removed]",
      "text/plain": [
       "<Figure size 640x480 with 1 Axes>"
      ]
     },
     "metadata": {},
     "output_type": "display_data"
    }
   ],
   "source": [
    "plt.plot(range(epochs), get_smooth(train_accuracies2), label='train_accuracy sgd')\n",
    "plt.plot(range(epochs), get_smooth(test_accuracies2), label='test_accuracy sgd')\n",
    "plt.legend(loc='upper right')\n",
    "print(\"Accuracy sgd is: \", acc2)"
   ]
  },
  {
   "cell_type": "code",
   "execution_count": 44,
   "metadata": {},
   "outputs": [
    {
     "name": "stdout",
     "output_type": "stream",
     "text": [
      "Accuracy rms is:  0.7207792207792207\n"
     ]
    },
    {
     "data": {
      "image/png": "[encoded data removed]",
      "text/plain": [
       "<Figure size 640x480 with 1 Axes>"
      ]
     },
     "metadata": {},
     "output_type": "display_data"
    }
   ],
   "source": [
    "plt.plot(range(epochs), get_smooth(train_accuracies3), label='train_accuracy rms')\n",
    "plt.plot(range(epochs), get_smooth(test_accuracies3), label='test_accuracy rms')\n",
    "plt.legend(loc='upper right')\n",
    "print(\"Accuracy rms is: \", acc3)"
   ]
  },
  {
   "cell_type": "code",
   "execution_count": null,
   "metadata": {},
   "outputs": [],
   "source": []
  }
 ],
 "metadata": {
  "colab": {
   "provenance": []
  },
  "kernelspec": {
   "display_name": "Python 3 (ipykernel)",
   "language": "python",
   "name": "python3"
  },
  "language_info": {
   "codemirror_mode": {
    "name": "ipython",
    "version": 3
   },
   "file_extension": ".py",
   "mimetype": "text/x-python",
   "name": "python",
   "nbconvert_exporter": "python",
   "pygments_lexer": "ipython3",
   "version": "3.9.13"
  }
 },
 "nbformat": 4,
 "nbformat_minor": 1
}
